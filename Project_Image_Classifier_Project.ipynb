{
 "cells": [
  {
   "cell_type": "markdown",
   "metadata": {
    "colab_type": "text",
    "id": "y00b5TQZnqs_"
   },
   "source": [
    "# Your First AI application\n",
    "\n",
    "Going forward, AI algorithms will be incorporated into more and more everyday applications. For example, you might want to include an image classifier in a smart phone app. To do this, you'd use a deep learning model trained on hundreds of thousands of images as part of the overall application architecture. A large part of software development in the future will be using these types of models as common parts of applications. \n",
    "\n",
    "In this project, you'll train an image classifier to recognize different species of flowers. You can imagine using something like this in a phone app that tells you the name of the flower your camera is looking at. In practice you'd train this classifier, then export it for use in your application. We'll be using [this dataset](http://www.robots.ox.ac.uk/~vgg/data/flowers/102/index.html) from Oxford of 102 flower categories, you can see a few examples below. \n",
    "\n",
    "<img src='assets/Flowers.png' width=500px>\n",
    "\n",
    "The project is broken down into multiple steps:\n",
    "\n",
    "* Load the image dataset and create a pipeline.\n",
    "* Build and Train an image classifier on this dataset.\n",
    "* Use your trained model to perform inference on flower images.\n",
    "\n",
    "We'll lead you through each part which you'll implement in Python.\n",
    "\n",
    "When you've completed this project, you'll have an application that can be trained on any set of labeled images. Here your network will be learning about flowers and end up as a command line application. But, what you do with your new skills depends on your imagination and effort in building a dataset. For example, imagine an app where you take a picture of a car, it tells you what the make and model is, then looks up information about it. Go build your own dataset and make something new."
   ]
  },
  {
   "cell_type": "code",
   "execution_count": 1,
   "metadata": {},
   "outputs": [
    {
     "name": "stdout",
     "output_type": "stream",
     "text": [
      "Requirement already satisfied: tfds-nightly in /Users/akanshasinghlnu/anaconda3/lib/python3.7/site-packages (3.1.0.dev202005020105)\n",
      "Requirement already satisfied: dill in /Users/akanshasinghlnu/anaconda3/lib/python3.7/site-packages (from tfds-nightly) (0.3.1.1)\n",
      "Requirement already satisfied: attrs>=18.1.0 in /Users/akanshasinghlnu/anaconda3/lib/python3.7/site-packages (from tfds-nightly) (19.3.0)\n",
      "Requirement already satisfied: numpy in /Users/akanshasinghlnu/anaconda3/lib/python3.7/site-packages (from tfds-nightly) (1.17.4)\n",
      "Requirement already satisfied: six in /Users/akanshasinghlnu/anaconda3/lib/python3.7/site-packages (from tfds-nightly) (1.13.0)\n",
      "Requirement already satisfied: termcolor in /Users/akanshasinghlnu/anaconda3/lib/python3.7/site-packages (from tfds-nightly) (1.1.0)\n",
      "Requirement already satisfied: tqdm in /Users/akanshasinghlnu/anaconda3/lib/python3.7/site-packages (from tfds-nightly) (4.40.2)\n",
      "Requirement already satisfied: requests>=2.19.0 in /Users/akanshasinghlnu/anaconda3/lib/python3.7/site-packages (from tfds-nightly) (2.22.0)\n",
      "Requirement already satisfied: future in /Users/akanshasinghlnu/anaconda3/lib/python3.7/site-packages (from tfds-nightly) (0.18.2)\n",
      "Requirement already satisfied: tensorflow-metadata<0.16,>=0.15 in /Users/akanshasinghlnu/anaconda3/lib/python3.7/site-packages (from tfds-nightly) (0.15.2)\n",
      "Requirement already satisfied: wrapt in /Users/akanshasinghlnu/anaconda3/lib/python3.7/site-packages (from tfds-nightly) (1.11.2)\n",
      "Requirement already satisfied: promise in /Users/akanshasinghlnu/anaconda3/lib/python3.7/site-packages (from tfds-nightly) (2.3)\n",
      "Requirement already satisfied: protobuf>=3.6.1 in /Users/akanshasinghlnu/anaconda3/lib/python3.7/site-packages (from tfds-nightly) (3.11.2)\n",
      "Requirement already satisfied: absl-py in /Users/akanshasinghlnu/anaconda3/lib/python3.7/site-packages (from tfds-nightly) (0.8.1)\n",
      "Requirement already satisfied: chardet<3.1.0,>=3.0.2 in /Users/akanshasinghlnu/anaconda3/lib/python3.7/site-packages (from requests>=2.19.0->tfds-nightly) (3.0.4)\n",
      "Requirement already satisfied: idna<2.9,>=2.5 in /Users/akanshasinghlnu/anaconda3/lib/python3.7/site-packages (from requests>=2.19.0->tfds-nightly) (2.8)\n",
      "Requirement already satisfied: urllib3!=1.25.0,!=1.25.1,<1.26,>=1.21.1 in /Users/akanshasinghlnu/anaconda3/lib/python3.7/site-packages (from requests>=2.19.0->tfds-nightly) (1.25.7)\n",
      "Requirement already satisfied: certifi>=2017.4.17 in /Users/akanshasinghlnu/anaconda3/lib/python3.7/site-packages (from requests>=2.19.0->tfds-nightly) (2019.11.28)\n",
      "Requirement already satisfied: googleapis-common-protos in /Users/akanshasinghlnu/anaconda3/lib/python3.7/site-packages (from tensorflow-metadata<0.16,>=0.15->tfds-nightly) (1.51.0)\n",
      "Requirement already satisfied: setuptools in /Users/akanshasinghlnu/anaconda3/lib/python3.7/site-packages (from protobuf>=3.6.1->tfds-nightly) (42.0.2.post20191203)\n",
      "Note: you may need to restart the kernel to use updated packages.\n"
     ]
    }
   ],
   "source": [
    "# %pip uninstall tensorflow_datasets y\n",
    "# %pip install \"keras==2.3.0\"\n",
    "# %pip install \"keras==2.3.0\"\n",
    "# %pip install \"tensorflow_datasets==3.1.0\"\n",
    "%pip --no-cache-dir install tfds-nightly"
   ]
  },
  {
   "cell_type": "markdown",
   "metadata": {
    "colab_type": "text",
    "id": "kKnPjnLAftRV"
   },
   "source": [
    "## Import Resources"
   ]
  },
  {
   "cell_type": "code",
   "execution_count": 1,
   "metadata": {
    "colab": {},
    "colab_type": "code",
    "id": "2dCk6873paNW"
   },
   "outputs": [],
   "source": [
    "# TODO: Make all necessary imports.\n",
    "import warnings\n",
    "warnings.filterwarnings('ignore')\n",
    "%matplotlib inline\n",
    "%config InlineBackend.figure_format = 'retina'\n",
    "\n",
    "import numpy as np\n",
    "import matplotlib.pyplot as plt\n",
    "\n",
    "import tensorflow as tf\n",
    "import tensorflow_datasets as tfds\n",
    "tfds.disable_progress_bar()\n",
    "import logging\n",
    "logger = tf.get_logger()\n",
    "logger.setLevel(logging.ERROR)"
   ]
  },
  {
   "cell_type": "code",
   "execution_count": 2,
   "metadata": {},
   "outputs": [
    {
     "name": "stdout",
     "output_type": "stream",
     "text": [
      "Using:\n",
      "\t• TensorFlow version: 2.2.0-rc4\n",
      "\t• tf.keras version: 2.3.0-tf\n",
      "\t• tfds version: 3.1.0\n",
      "\t• GPU device not found. Running on CPU\n"
     ]
    }
   ],
   "source": [
    "print('Using:')\n",
    "print('\\t\\u2022 TensorFlow version:', tf.__version__)\n",
    "print('\\t\\u2022 tf.keras version:', tf.keras.__version__)\n",
    "print('\\t\\u2022 tfds version:', tfds.__version__)\n",
    "print('\\t\\u2022 Running on GPU' if tf.test.is_gpu_available() else '\\t\\u2022 GPU device not found. Running on CPU')"
   ]
  },
  {
   "cell_type": "markdown",
   "metadata": {
    "colab_type": "text",
    "id": "tWKF0YOarpCx"
   },
   "source": [
    "## Load the Dataset\n",
    "\n",
    "Here you'll use `tensorflow_datasets` to load the [Oxford Flowers 102 dataset](https://www.tensorflow.org/datasets/catalog/oxford_flowers102). This dataset has 3 splits: `'train'`, `'test'`, and `'validation'`.  You'll also need to make sure the training data is normalized and resized to 224x224 pixels as required by the pre-trained networks.\n",
    "\n",
    "The validation and testing sets are used to measure the model's performance on data it hasn't seen yet, but you'll still need to normalize and resize the images to the appropriate size."
   ]
  },
  {
   "cell_type": "code",
   "execution_count": 6,
   "metadata": {},
   "outputs": [
    {
     "name": "stdout",
     "output_type": "stream",
     "text": [
      "\u001b[1mDownloading and preparing dataset oxford_flowers102/2.1.0 (download: 336.76 MiB, generated: 331.34 MiB, total: 668.11 MiB) to /Users/akanshasinghlnu/tensorflow_datasets/oxford_flowers102/2.1.0...\u001b[0m\n"
     ]
    },
    {
     "ename": "NonMatchingChecksumError",
     "evalue": "Artifact https://www.robots.ox.ac.uk/~vgg/data/flowers/102/102flowers.tgz, downloaded to /Users/akanshasinghlnu/tensorflow_datasets/downloads/robots.ox.ac.uk_vgg_flowers_102_102flowersoWedSp98maBn1wypsDib6T-q2NVbO40fwvTflmPmQpY.tgz.tmp.63b75e4b6049419c9f015ea6f8527110/102flowers.tgz, has wrong checksum. This might indicate:\n * The website may be down (e.g. returned a 503 status code). Please check the url.\n * For Google Drive URLs, try again later as Drive sometimes rejects downloads when too many people access the same URL. See https://github.com/tensorflow/datasets/issues/1482\n * The original datasets files may have been updated. In this case the TFDS dataset builder should be updated to use the new files and checksums. Sorry about that. Please open an issue or send us a PR with a fix.\n * If you're adding a new dataset, don't forget to register the checksums as explained in: https://www.tensorflow.org/datasets/add_dataset#2_run_download_and_prepare_locally\n",
     "output_type": "error",
     "traceback": [
      "\u001b[0;31m---------------------------------------------------------------------------\u001b[0m",
      "\u001b[0;31mNonMatchingChecksumError\u001b[0m                  Traceback (most recent call last)",
      "\u001b[0;32m<ipython-input-6-2c8014659fb8>\u001b[0m in \u001b[0;36m<module>\u001b[0;34m\u001b[0m\n\u001b[0;32m----> 1\u001b[0;31m \u001b[0mdataset\u001b[0m\u001b[0;34m,\u001b[0m \u001b[0mdataset_info\u001b[0m \u001b[0;34m=\u001b[0m \u001b[0mtfds\u001b[0m\u001b[0;34m.\u001b[0m\u001b[0mload\u001b[0m\u001b[0;34m(\u001b[0m\u001b[0;34m'oxford_flowers102'\u001b[0m\u001b[0;34m,\u001b[0m \u001b[0mas_supervised\u001b[0m\u001b[0;34m=\u001b[0m\u001b[0;32mTrue\u001b[0m\u001b[0;34m,\u001b[0m \u001b[0mwith_info\u001b[0m\u001b[0;34m=\u001b[0m\u001b[0;32mTrue\u001b[0m\u001b[0;34m)\u001b[0m\u001b[0;34m\u001b[0m\u001b[0;34m\u001b[0m\u001b[0m\n\u001b[0m",
      "\u001b[0;32m~/anaconda3/lib/python3.7/site-packages/tensorflow_datasets/core/api_utils.py\u001b[0m in \u001b[0;36mdisallow_positional_args_dec\u001b[0;34m(fn, instance, args, kwargs)\u001b[0m\n\u001b[1;32m     67\u001b[0m     \u001b[0m_check_no_positional\u001b[0m\u001b[0;34m(\u001b[0m\u001b[0mfn\u001b[0m\u001b[0;34m,\u001b[0m \u001b[0margs\u001b[0m\u001b[0;34m,\u001b[0m \u001b[0mismethod\u001b[0m\u001b[0;34m,\u001b[0m \u001b[0mallowed\u001b[0m\u001b[0;34m=\u001b[0m\u001b[0mallowed\u001b[0m\u001b[0;34m)\u001b[0m\u001b[0;34m\u001b[0m\u001b[0;34m\u001b[0m\u001b[0m\n\u001b[1;32m     68\u001b[0m     \u001b[0m_check_required\u001b[0m\u001b[0;34m(\u001b[0m\u001b[0mfn\u001b[0m\u001b[0;34m,\u001b[0m \u001b[0mkwargs\u001b[0m\u001b[0;34m)\u001b[0m\u001b[0;34m\u001b[0m\u001b[0;34m\u001b[0m\u001b[0m\n\u001b[0;32m---> 69\u001b[0;31m     \u001b[0;32mreturn\u001b[0m \u001b[0mfn\u001b[0m\u001b[0;34m(\u001b[0m\u001b[0;34m*\u001b[0m\u001b[0margs\u001b[0m\u001b[0;34m,\u001b[0m \u001b[0;34m**\u001b[0m\u001b[0mkwargs\u001b[0m\u001b[0;34m)\u001b[0m\u001b[0;34m\u001b[0m\u001b[0;34m\u001b[0m\u001b[0m\n\u001b[0m\u001b[1;32m     70\u001b[0m \u001b[0;34m\u001b[0m\u001b[0m\n\u001b[1;32m     71\u001b[0m   \u001b[0;32mreturn\u001b[0m \u001b[0mdisallow_positional_args_dec\u001b[0m\u001b[0;34m(\u001b[0m\u001b[0mwrapped\u001b[0m\u001b[0;34m)\u001b[0m  \u001b[0;31m# pylint: disable=no-value-for-parameter\u001b[0m\u001b[0;34m\u001b[0m\u001b[0;34m\u001b[0m\u001b[0m\n",
      "\u001b[0;32m~/anaconda3/lib/python3.7/site-packages/tensorflow_datasets/core/registered.py\u001b[0m in \u001b[0;36mload\u001b[0;34m(name, split, data_dir, batch_size, shuffle_files, download, as_supervised, decoders, read_config, with_info, builder_kwargs, download_and_prepare_kwargs, as_dataset_kwargs, try_gcs)\u001b[0m\n\u001b[1;32m    367\u001b[0m   \u001b[0;32mif\u001b[0m \u001b[0mdownload\u001b[0m\u001b[0;34m:\u001b[0m\u001b[0;34m\u001b[0m\u001b[0;34m\u001b[0m\u001b[0m\n\u001b[1;32m    368\u001b[0m     \u001b[0mdownload_and_prepare_kwargs\u001b[0m \u001b[0;34m=\u001b[0m \u001b[0mdownload_and_prepare_kwargs\u001b[0m \u001b[0;32mor\u001b[0m \u001b[0;34m{\u001b[0m\u001b[0;34m}\u001b[0m\u001b[0;34m\u001b[0m\u001b[0;34m\u001b[0m\u001b[0m\n\u001b[0;32m--> 369\u001b[0;31m     \u001b[0mdbuilder\u001b[0m\u001b[0;34m.\u001b[0m\u001b[0mdownload_and_prepare\u001b[0m\u001b[0;34m(\u001b[0m\u001b[0;34m**\u001b[0m\u001b[0mdownload_and_prepare_kwargs\u001b[0m\u001b[0;34m)\u001b[0m\u001b[0;34m\u001b[0m\u001b[0;34m\u001b[0m\u001b[0m\n\u001b[0m\u001b[1;32m    370\u001b[0m \u001b[0;34m\u001b[0m\u001b[0m\n\u001b[1;32m    371\u001b[0m   \u001b[0;32mif\u001b[0m \u001b[0mas_dataset_kwargs\u001b[0m \u001b[0;32mis\u001b[0m \u001b[0;32mNone\u001b[0m\u001b[0;34m:\u001b[0m\u001b[0;34m\u001b[0m\u001b[0;34m\u001b[0m\u001b[0m\n",
      "\u001b[0;32m~/anaconda3/lib/python3.7/site-packages/tensorflow_datasets/core/api_utils.py\u001b[0m in \u001b[0;36mdisallow_positional_args_dec\u001b[0;34m(fn, instance, args, kwargs)\u001b[0m\n\u001b[1;32m     67\u001b[0m     \u001b[0m_check_no_positional\u001b[0m\u001b[0;34m(\u001b[0m\u001b[0mfn\u001b[0m\u001b[0;34m,\u001b[0m \u001b[0margs\u001b[0m\u001b[0;34m,\u001b[0m \u001b[0mismethod\u001b[0m\u001b[0;34m,\u001b[0m \u001b[0mallowed\u001b[0m\u001b[0;34m=\u001b[0m\u001b[0mallowed\u001b[0m\u001b[0;34m)\u001b[0m\u001b[0;34m\u001b[0m\u001b[0;34m\u001b[0m\u001b[0m\n\u001b[1;32m     68\u001b[0m     \u001b[0m_check_required\u001b[0m\u001b[0;34m(\u001b[0m\u001b[0mfn\u001b[0m\u001b[0;34m,\u001b[0m \u001b[0mkwargs\u001b[0m\u001b[0;34m)\u001b[0m\u001b[0;34m\u001b[0m\u001b[0;34m\u001b[0m\u001b[0m\n\u001b[0;32m---> 69\u001b[0;31m     \u001b[0;32mreturn\u001b[0m \u001b[0mfn\u001b[0m\u001b[0;34m(\u001b[0m\u001b[0;34m*\u001b[0m\u001b[0margs\u001b[0m\u001b[0;34m,\u001b[0m \u001b[0;34m**\u001b[0m\u001b[0mkwargs\u001b[0m\u001b[0;34m)\u001b[0m\u001b[0;34m\u001b[0m\u001b[0;34m\u001b[0m\u001b[0m\n\u001b[0m\u001b[1;32m     70\u001b[0m \u001b[0;34m\u001b[0m\u001b[0m\n\u001b[1;32m     71\u001b[0m   \u001b[0;32mreturn\u001b[0m \u001b[0mdisallow_positional_args_dec\u001b[0m\u001b[0;34m(\u001b[0m\u001b[0mwrapped\u001b[0m\u001b[0;34m)\u001b[0m  \u001b[0;31m# pylint: disable=no-value-for-parameter\u001b[0m\u001b[0;34m\u001b[0m\u001b[0;34m\u001b[0m\u001b[0m\n",
      "\u001b[0;32m~/anaconda3/lib/python3.7/site-packages/tensorflow_datasets/core/dataset_builder.py\u001b[0m in \u001b[0;36mdownload_and_prepare\u001b[0;34m(self, download_dir, download_config)\u001b[0m\n\u001b[1;32m    361\u001b[0m           self._download_and_prepare(\n\u001b[1;32m    362\u001b[0m               \u001b[0mdl_manager\u001b[0m\u001b[0;34m=\u001b[0m\u001b[0mdl_manager\u001b[0m\u001b[0;34m,\u001b[0m\u001b[0;34m\u001b[0m\u001b[0;34m\u001b[0m\u001b[0m\n\u001b[0;32m--> 363\u001b[0;31m               download_config=download_config)\n\u001b[0m\u001b[1;32m    364\u001b[0m \u001b[0;34m\u001b[0m\u001b[0m\n\u001b[1;32m    365\u001b[0m           \u001b[0;31m# NOTE: If modifying the lines below to put additional information in\u001b[0m\u001b[0;34m\u001b[0m\u001b[0;34m\u001b[0m\u001b[0;34m\u001b[0m\u001b[0m\n",
      "\u001b[0;32m~/anaconda3/lib/python3.7/site-packages/tensorflow_datasets/core/dataset_builder.py\u001b[0m in \u001b[0;36m_download_and_prepare\u001b[0;34m(self, dl_manager, download_config)\u001b[0m\n\u001b[1;32m    994\u001b[0m     super(GeneratorBasedBuilder, self)._download_and_prepare(\n\u001b[1;32m    995\u001b[0m         \u001b[0mdl_manager\u001b[0m\u001b[0;34m=\u001b[0m\u001b[0mdl_manager\u001b[0m\u001b[0;34m,\u001b[0m\u001b[0;34m\u001b[0m\u001b[0;34m\u001b[0m\u001b[0m\n\u001b[0;32m--> 996\u001b[0;31m         \u001b[0mmax_examples_per_split\u001b[0m\u001b[0;34m=\u001b[0m\u001b[0mdownload_config\u001b[0m\u001b[0;34m.\u001b[0m\u001b[0mmax_examples_per_split\u001b[0m\u001b[0;34m,\u001b[0m\u001b[0;34m\u001b[0m\u001b[0;34m\u001b[0m\u001b[0m\n\u001b[0m\u001b[1;32m    997\u001b[0m     )\n\u001b[1;32m    998\u001b[0m \u001b[0;34m\u001b[0m\u001b[0m\n",
      "\u001b[0;32m~/anaconda3/lib/python3.7/site-packages/tensorflow_datasets/core/dataset_builder.py\u001b[0m in \u001b[0;36m_download_and_prepare\u001b[0;34m(self, dl_manager, **prepare_split_kwargs)\u001b[0m\n\u001b[1;32m    914\u001b[0m         prepare_split_kwargs)\n\u001b[1;32m    915\u001b[0m     for split_generator in self._split_generators(\n\u001b[0;32m--> 916\u001b[0;31m         dl_manager, **split_generators_kwargs):\n\u001b[0m\u001b[1;32m    917\u001b[0m       \u001b[0;32mif\u001b[0m \u001b[0mstr\u001b[0m\u001b[0;34m(\u001b[0m\u001b[0msplit_generator\u001b[0m\u001b[0;34m.\u001b[0m\u001b[0msplit_info\u001b[0m\u001b[0;34m.\u001b[0m\u001b[0mname\u001b[0m\u001b[0;34m)\u001b[0m\u001b[0;34m.\u001b[0m\u001b[0mlower\u001b[0m\u001b[0;34m(\u001b[0m\u001b[0;34m)\u001b[0m \u001b[0;34m==\u001b[0m \u001b[0;34m\"all\"\u001b[0m\u001b[0;34m:\u001b[0m\u001b[0;34m\u001b[0m\u001b[0;34m\u001b[0m\u001b[0m\n\u001b[1;32m    918\u001b[0m         raise ValueError(\n",
      "\u001b[0;32m~/anaconda3/lib/python3.7/site-packages/tensorflow_datasets/image_classification/oxford_flowers102.py\u001b[0m in \u001b[0;36m_split_generators\u001b[0;34m(self, dl_manager)\u001b[0m\n\u001b[1;32m    107\u001b[0m             extract_method=tfds.download.ExtractMethod.TAR),\n\u001b[1;32m    108\u001b[0m         \u001b[0;34m\"labels\"\u001b[0m\u001b[0;34m:\u001b[0m \u001b[0mos\u001b[0m\u001b[0;34m.\u001b[0m\u001b[0mpath\u001b[0m\u001b[0;34m.\u001b[0m\u001b[0mjoin\u001b[0m\u001b[0;34m(\u001b[0m\u001b[0m_BASE_URL\u001b[0m\u001b[0;34m,\u001b[0m \u001b[0;34m\"imagelabels.mat\"\u001b[0m\u001b[0;34m)\u001b[0m\u001b[0;34m,\u001b[0m\u001b[0;34m\u001b[0m\u001b[0;34m\u001b[0m\u001b[0m\n\u001b[0;32m--> 109\u001b[0;31m         \u001b[0;34m\"setid\"\u001b[0m\u001b[0;34m:\u001b[0m \u001b[0mos\u001b[0m\u001b[0;34m.\u001b[0m\u001b[0mpath\u001b[0m\u001b[0;34m.\u001b[0m\u001b[0mjoin\u001b[0m\u001b[0;34m(\u001b[0m\u001b[0m_BASE_URL\u001b[0m\u001b[0;34m,\u001b[0m \u001b[0;34m\"setid.mat\"\u001b[0m\u001b[0;34m)\u001b[0m\u001b[0;34m,\u001b[0m\u001b[0;34m\u001b[0m\u001b[0;34m\u001b[0m\u001b[0m\n\u001b[0m\u001b[1;32m    110\u001b[0m     })\n\u001b[1;32m    111\u001b[0m \u001b[0;34m\u001b[0m\u001b[0m\n",
      "\u001b[0;32m~/anaconda3/lib/python3.7/site-packages/tensorflow_datasets/core/download/download_manager.py\u001b[0m in \u001b[0;36mdownload_and_extract\u001b[0;34m(self, url_or_urls)\u001b[0m\n\u001b[1;32m    417\u001b[0m     \u001b[0;32mwith\u001b[0m \u001b[0mself\u001b[0m\u001b[0;34m.\u001b[0m\u001b[0m_downloader\u001b[0m\u001b[0;34m.\u001b[0m\u001b[0mtqdm\u001b[0m\u001b[0;34m(\u001b[0m\u001b[0;34m)\u001b[0m\u001b[0;34m:\u001b[0m\u001b[0;34m\u001b[0m\u001b[0;34m\u001b[0m\u001b[0m\n\u001b[1;32m    418\u001b[0m       \u001b[0;32mwith\u001b[0m \u001b[0mself\u001b[0m\u001b[0;34m.\u001b[0m\u001b[0m_extractor\u001b[0m\u001b[0;34m.\u001b[0m\u001b[0mtqdm\u001b[0m\u001b[0;34m(\u001b[0m\u001b[0;34m)\u001b[0m\u001b[0;34m:\u001b[0m\u001b[0;34m\u001b[0m\u001b[0;34m\u001b[0m\u001b[0m\n\u001b[0;32m--> 419\u001b[0;31m         \u001b[0;32mreturn\u001b[0m \u001b[0m_map_promise\u001b[0m\u001b[0;34m(\u001b[0m\u001b[0mself\u001b[0m\u001b[0;34m.\u001b[0m\u001b[0m_download_extract\u001b[0m\u001b[0;34m,\u001b[0m \u001b[0murl_or_urls\u001b[0m\u001b[0;34m)\u001b[0m\u001b[0;34m\u001b[0m\u001b[0;34m\u001b[0m\u001b[0m\n\u001b[0m\u001b[1;32m    420\u001b[0m \u001b[0;34m\u001b[0m\u001b[0m\n\u001b[1;32m    421\u001b[0m   \u001b[0;34m@\u001b[0m\u001b[0mproperty\u001b[0m\u001b[0;34m\u001b[0m\u001b[0;34m\u001b[0m\u001b[0m\n",
      "\u001b[0;32m~/anaconda3/lib/python3.7/site-packages/tensorflow_datasets/core/download/download_manager.py\u001b[0m in \u001b[0;36m_map_promise\u001b[0;34m(map_fn, all_inputs)\u001b[0m\n\u001b[1;32m    460\u001b[0m   \u001b[0;34m\"\"\"Map the function into each element and resolve the promise.\"\"\"\u001b[0m\u001b[0;34m\u001b[0m\u001b[0;34m\u001b[0m\u001b[0m\n\u001b[1;32m    461\u001b[0m   \u001b[0mall_promises\u001b[0m \u001b[0;34m=\u001b[0m \u001b[0mutils\u001b[0m\u001b[0;34m.\u001b[0m\u001b[0mmap_nested\u001b[0m\u001b[0;34m(\u001b[0m\u001b[0mmap_fn\u001b[0m\u001b[0;34m,\u001b[0m \u001b[0mall_inputs\u001b[0m\u001b[0;34m)\u001b[0m  \u001b[0;31m# Apply the function\u001b[0m\u001b[0;34m\u001b[0m\u001b[0;34m\u001b[0m\u001b[0m\n\u001b[0;32m--> 462\u001b[0;31m   \u001b[0mres\u001b[0m \u001b[0;34m=\u001b[0m \u001b[0mutils\u001b[0m\u001b[0;34m.\u001b[0m\u001b[0mmap_nested\u001b[0m\u001b[0;34m(\u001b[0m\u001b[0m_wait_on_promise\u001b[0m\u001b[0;34m,\u001b[0m \u001b[0mall_promises\u001b[0m\u001b[0;34m)\u001b[0m\u001b[0;34m\u001b[0m\u001b[0;34m\u001b[0m\u001b[0m\n\u001b[0m\u001b[1;32m    463\u001b[0m   \u001b[0;32mreturn\u001b[0m \u001b[0mres\u001b[0m\u001b[0;34m\u001b[0m\u001b[0;34m\u001b[0m\u001b[0m\n",
      "\u001b[0;32m~/anaconda3/lib/python3.7/site-packages/tensorflow_datasets/core/utils/py_utils.py\u001b[0m in \u001b[0;36mmap_nested\u001b[0;34m(function, data_struct, dict_only, map_tuple)\u001b[0m\n\u001b[1;32m    151\u001b[0m     return {\n\u001b[1;32m    152\u001b[0m         \u001b[0mk\u001b[0m\u001b[0;34m:\u001b[0m \u001b[0mmap_nested\u001b[0m\u001b[0;34m(\u001b[0m\u001b[0mfunction\u001b[0m\u001b[0;34m,\u001b[0m \u001b[0mv\u001b[0m\u001b[0;34m,\u001b[0m \u001b[0mdict_only\u001b[0m\u001b[0;34m,\u001b[0m \u001b[0mmap_tuple\u001b[0m\u001b[0;34m)\u001b[0m\u001b[0;34m\u001b[0m\u001b[0;34m\u001b[0m\u001b[0m\n\u001b[0;32m--> 153\u001b[0;31m         \u001b[0;32mfor\u001b[0m \u001b[0mk\u001b[0m\u001b[0;34m,\u001b[0m \u001b[0mv\u001b[0m \u001b[0;32min\u001b[0m \u001b[0mdata_struct\u001b[0m\u001b[0;34m.\u001b[0m\u001b[0mitems\u001b[0m\u001b[0;34m(\u001b[0m\u001b[0;34m)\u001b[0m\u001b[0;34m\u001b[0m\u001b[0;34m\u001b[0m\u001b[0m\n\u001b[0m\u001b[1;32m    154\u001b[0m     }\n\u001b[1;32m    155\u001b[0m   \u001b[0;32melif\u001b[0m \u001b[0;32mnot\u001b[0m \u001b[0mdict_only\u001b[0m\u001b[0;34m:\u001b[0m\u001b[0;34m\u001b[0m\u001b[0;34m\u001b[0m\u001b[0m\n",
      "\u001b[0;32m~/anaconda3/lib/python3.7/site-packages/tensorflow_datasets/core/utils/py_utils.py\u001b[0m in \u001b[0;36m<dictcomp>\u001b[0;34m(.0)\u001b[0m\n\u001b[1;32m    151\u001b[0m     return {\n\u001b[1;32m    152\u001b[0m         \u001b[0mk\u001b[0m\u001b[0;34m:\u001b[0m \u001b[0mmap_nested\u001b[0m\u001b[0;34m(\u001b[0m\u001b[0mfunction\u001b[0m\u001b[0;34m,\u001b[0m \u001b[0mv\u001b[0m\u001b[0;34m,\u001b[0m \u001b[0mdict_only\u001b[0m\u001b[0;34m,\u001b[0m \u001b[0mmap_tuple\u001b[0m\u001b[0;34m)\u001b[0m\u001b[0;34m\u001b[0m\u001b[0;34m\u001b[0m\u001b[0m\n\u001b[0;32m--> 153\u001b[0;31m         \u001b[0;32mfor\u001b[0m \u001b[0mk\u001b[0m\u001b[0;34m,\u001b[0m \u001b[0mv\u001b[0m \u001b[0;32min\u001b[0m \u001b[0mdata_struct\u001b[0m\u001b[0;34m.\u001b[0m\u001b[0mitems\u001b[0m\u001b[0;34m(\u001b[0m\u001b[0;34m)\u001b[0m\u001b[0;34m\u001b[0m\u001b[0;34m\u001b[0m\u001b[0m\n\u001b[0m\u001b[1;32m    154\u001b[0m     }\n\u001b[1;32m    155\u001b[0m   \u001b[0;32melif\u001b[0m \u001b[0;32mnot\u001b[0m \u001b[0mdict_only\u001b[0m\u001b[0;34m:\u001b[0m\u001b[0;34m\u001b[0m\u001b[0;34m\u001b[0m\u001b[0m\n",
      "\u001b[0;32m~/anaconda3/lib/python3.7/site-packages/tensorflow_datasets/core/utils/py_utils.py\u001b[0m in \u001b[0;36mmap_nested\u001b[0;34m(function, data_struct, dict_only, map_tuple)\u001b[0m\n\u001b[1;32m    165\u001b[0m         \u001b[0;32mreturn\u001b[0m \u001b[0mtuple\u001b[0m\u001b[0;34m(\u001b[0m\u001b[0mmapped\u001b[0m\u001b[0;34m)\u001b[0m\u001b[0;34m\u001b[0m\u001b[0;34m\u001b[0m\u001b[0m\n\u001b[1;32m    166\u001b[0m   \u001b[0;31m# Singleton\u001b[0m\u001b[0;34m\u001b[0m\u001b[0;34m\u001b[0m\u001b[0;34m\u001b[0m\u001b[0m\n\u001b[0;32m--> 167\u001b[0;31m   \u001b[0;32mreturn\u001b[0m \u001b[0mfunction\u001b[0m\u001b[0;34m(\u001b[0m\u001b[0mdata_struct\u001b[0m\u001b[0;34m)\u001b[0m\u001b[0;34m\u001b[0m\u001b[0;34m\u001b[0m\u001b[0m\n\u001b[0m\u001b[1;32m    168\u001b[0m \u001b[0;34m\u001b[0m\u001b[0m\n\u001b[1;32m    169\u001b[0m \u001b[0;34m\u001b[0m\u001b[0m\n",
      "\u001b[0;32m~/anaconda3/lib/python3.7/site-packages/tensorflow_datasets/core/download/download_manager.py\u001b[0m in \u001b[0;36m_wait_on_promise\u001b[0;34m(p)\u001b[0m\n\u001b[1;32m    444\u001b[0m \u001b[0;34m\u001b[0m\u001b[0m\n\u001b[1;32m    445\u001b[0m   \u001b[0;32mdef\u001b[0m \u001b[0m_wait_on_promise\u001b[0m\u001b[0;34m(\u001b[0m\u001b[0mp\u001b[0m\u001b[0;34m)\u001b[0m\u001b[0;34m:\u001b[0m\u001b[0;34m\u001b[0m\u001b[0;34m\u001b[0m\u001b[0m\n\u001b[0;32m--> 446\u001b[0;31m     \u001b[0;32mreturn\u001b[0m \u001b[0mp\u001b[0m\u001b[0;34m.\u001b[0m\u001b[0mget\u001b[0m\u001b[0;34m(\u001b[0m\u001b[0;34m)\u001b[0m\u001b[0;34m\u001b[0m\u001b[0;34m\u001b[0m\u001b[0m\n\u001b[0m\u001b[1;32m    447\u001b[0m \u001b[0;34m\u001b[0m\u001b[0m\n\u001b[1;32m    448\u001b[0m \u001b[0;32melse\u001b[0m\u001b[0;34m:\u001b[0m\u001b[0;34m\u001b[0m\u001b[0;34m\u001b[0m\u001b[0m\n",
      "\u001b[0;32m~/anaconda3/lib/python3.7/site-packages/promise/promise.py\u001b[0m in \u001b[0;36mget\u001b[0;34m(self, timeout)\u001b[0m\n\u001b[1;32m    510\u001b[0m         \u001b[0mtarget\u001b[0m \u001b[0;34m=\u001b[0m \u001b[0mself\u001b[0m\u001b[0;34m.\u001b[0m\u001b[0m_target\u001b[0m\u001b[0;34m(\u001b[0m\u001b[0;34m)\u001b[0m\u001b[0;34m\u001b[0m\u001b[0;34m\u001b[0m\u001b[0m\n\u001b[1;32m    511\u001b[0m         \u001b[0mself\u001b[0m\u001b[0;34m.\u001b[0m\u001b[0m_wait\u001b[0m\u001b[0;34m(\u001b[0m\u001b[0mtimeout\u001b[0m \u001b[0;32mor\u001b[0m \u001b[0mDEFAULT_TIMEOUT\u001b[0m\u001b[0;34m)\u001b[0m\u001b[0;34m\u001b[0m\u001b[0;34m\u001b[0m\u001b[0m\n\u001b[0;32m--> 512\u001b[0;31m         \u001b[0;32mreturn\u001b[0m \u001b[0mself\u001b[0m\u001b[0;34m.\u001b[0m\u001b[0m_target_settled_value\u001b[0m\u001b[0;34m(\u001b[0m\u001b[0m_raise\u001b[0m\u001b[0;34m=\u001b[0m\u001b[0;32mTrue\u001b[0m\u001b[0;34m)\u001b[0m\u001b[0;34m\u001b[0m\u001b[0;34m\u001b[0m\u001b[0m\n\u001b[0m\u001b[1;32m    513\u001b[0m \u001b[0;34m\u001b[0m\u001b[0m\n\u001b[1;32m    514\u001b[0m     \u001b[0;32mdef\u001b[0m \u001b[0m_target_settled_value\u001b[0m\u001b[0;34m(\u001b[0m\u001b[0mself\u001b[0m\u001b[0;34m,\u001b[0m \u001b[0m_raise\u001b[0m\u001b[0;34m=\u001b[0m\u001b[0;32mFalse\u001b[0m\u001b[0;34m)\u001b[0m\u001b[0;34m:\u001b[0m\u001b[0;34m\u001b[0m\u001b[0;34m\u001b[0m\u001b[0m\n",
      "\u001b[0;32m~/anaconda3/lib/python3.7/site-packages/promise/promise.py\u001b[0m in \u001b[0;36m_target_settled_value\u001b[0;34m(self, _raise)\u001b[0m\n\u001b[1;32m    514\u001b[0m     \u001b[0;32mdef\u001b[0m \u001b[0m_target_settled_value\u001b[0m\u001b[0;34m(\u001b[0m\u001b[0mself\u001b[0m\u001b[0;34m,\u001b[0m \u001b[0m_raise\u001b[0m\u001b[0;34m=\u001b[0m\u001b[0;32mFalse\u001b[0m\u001b[0;34m)\u001b[0m\u001b[0;34m:\u001b[0m\u001b[0;34m\u001b[0m\u001b[0;34m\u001b[0m\u001b[0m\n\u001b[1;32m    515\u001b[0m         \u001b[0;31m# type: (bool) -> Any\u001b[0m\u001b[0;34m\u001b[0m\u001b[0;34m\u001b[0m\u001b[0;34m\u001b[0m\u001b[0m\n\u001b[0;32m--> 516\u001b[0;31m         \u001b[0;32mreturn\u001b[0m \u001b[0mself\u001b[0m\u001b[0;34m.\u001b[0m\u001b[0m_target\u001b[0m\u001b[0;34m(\u001b[0m\u001b[0;34m)\u001b[0m\u001b[0;34m.\u001b[0m\u001b[0m_settled_value\u001b[0m\u001b[0;34m(\u001b[0m\u001b[0m_raise\u001b[0m\u001b[0;34m)\u001b[0m\u001b[0;34m\u001b[0m\u001b[0;34m\u001b[0m\u001b[0m\n\u001b[0m\u001b[1;32m    517\u001b[0m \u001b[0;34m\u001b[0m\u001b[0m\n\u001b[1;32m    518\u001b[0m     \u001b[0m_value\u001b[0m \u001b[0;34m=\u001b[0m \u001b[0m_reason\u001b[0m \u001b[0;34m=\u001b[0m \u001b[0m_target_settled_value\u001b[0m\u001b[0;34m\u001b[0m\u001b[0;34m\u001b[0m\u001b[0m\n",
      "\u001b[0;32m~/anaconda3/lib/python3.7/site-packages/promise/promise.py\u001b[0m in \u001b[0;36m_settled_value\u001b[0;34m(self, _raise)\u001b[0m\n\u001b[1;32m    224\u001b[0m             \u001b[0;32mif\u001b[0m \u001b[0m_raise\u001b[0m\u001b[0;34m:\u001b[0m\u001b[0;34m\u001b[0m\u001b[0;34m\u001b[0m\u001b[0m\n\u001b[1;32m    225\u001b[0m                 \u001b[0mraise_val\u001b[0m \u001b[0;34m=\u001b[0m \u001b[0mself\u001b[0m\u001b[0;34m.\u001b[0m\u001b[0m_fulfillment_handler0\u001b[0m\u001b[0;34m\u001b[0m\u001b[0;34m\u001b[0m\u001b[0m\n\u001b[0;32m--> 226\u001b[0;31m                 \u001b[0mreraise\u001b[0m\u001b[0;34m(\u001b[0m\u001b[0mtype\u001b[0m\u001b[0;34m(\u001b[0m\u001b[0mraise_val\u001b[0m\u001b[0;34m)\u001b[0m\u001b[0;34m,\u001b[0m \u001b[0mraise_val\u001b[0m\u001b[0;34m,\u001b[0m \u001b[0mself\u001b[0m\u001b[0;34m.\u001b[0m\u001b[0m_traceback\u001b[0m\u001b[0;34m)\u001b[0m\u001b[0;34m\u001b[0m\u001b[0;34m\u001b[0m\u001b[0m\n\u001b[0m\u001b[1;32m    227\u001b[0m             \u001b[0;32mreturn\u001b[0m \u001b[0mself\u001b[0m\u001b[0;34m.\u001b[0m\u001b[0m_fulfillment_handler0\u001b[0m\u001b[0;34m\u001b[0m\u001b[0;34m\u001b[0m\u001b[0m\n\u001b[1;32m    228\u001b[0m \u001b[0;34m\u001b[0m\u001b[0m\n",
      "\u001b[0;32m~/anaconda3/lib/python3.7/site-packages/six.py\u001b[0m in \u001b[0;36mreraise\u001b[0;34m(tp, value, tb)\u001b[0m\n\u001b[1;32m    694\u001b[0m             \u001b[0;32mif\u001b[0m \u001b[0mvalue\u001b[0m\u001b[0;34m.\u001b[0m\u001b[0m__traceback__\u001b[0m \u001b[0;32mis\u001b[0m \u001b[0;32mnot\u001b[0m \u001b[0mtb\u001b[0m\u001b[0;34m:\u001b[0m\u001b[0;34m\u001b[0m\u001b[0;34m\u001b[0m\u001b[0m\n\u001b[1;32m    695\u001b[0m                 \u001b[0;32mraise\u001b[0m \u001b[0mvalue\u001b[0m\u001b[0;34m.\u001b[0m\u001b[0mwith_traceback\u001b[0m\u001b[0;34m(\u001b[0m\u001b[0mtb\u001b[0m\u001b[0;34m)\u001b[0m\u001b[0;34m\u001b[0m\u001b[0;34m\u001b[0m\u001b[0m\n\u001b[0;32m--> 696\u001b[0;31m             \u001b[0;32mraise\u001b[0m \u001b[0mvalue\u001b[0m\u001b[0;34m\u001b[0m\u001b[0;34m\u001b[0m\u001b[0m\n\u001b[0m\u001b[1;32m    697\u001b[0m         \u001b[0;32mfinally\u001b[0m\u001b[0;34m:\u001b[0m\u001b[0;34m\u001b[0m\u001b[0;34m\u001b[0m\u001b[0m\n\u001b[1;32m    698\u001b[0m             \u001b[0mvalue\u001b[0m \u001b[0;34m=\u001b[0m \u001b[0;32mNone\u001b[0m\u001b[0;34m\u001b[0m\u001b[0;34m\u001b[0m\u001b[0m\n",
      "\u001b[0;32m~/anaconda3/lib/python3.7/site-packages/promise/promise.py\u001b[0m in \u001b[0;36mtry_catch\u001b[0;34m(handler, *args, **kwargs)\u001b[0m\n\u001b[1;32m     85\u001b[0m     \u001b[0;31m# type: (Callable, Any, Any) -> Union[Tuple[Any, None], Tuple[None, Tuple[Exception, Optional[TracebackType]]]]\u001b[0m\u001b[0;34m\u001b[0m\u001b[0;34m\u001b[0m\u001b[0;34m\u001b[0m\u001b[0m\n\u001b[1;32m     86\u001b[0m     \u001b[0;32mtry\u001b[0m\u001b[0;34m:\u001b[0m\u001b[0;34m\u001b[0m\u001b[0;34m\u001b[0m\u001b[0m\n\u001b[0;32m---> 87\u001b[0;31m         \u001b[0;32mreturn\u001b[0m \u001b[0;34m(\u001b[0m\u001b[0mhandler\u001b[0m\u001b[0;34m(\u001b[0m\u001b[0;34m*\u001b[0m\u001b[0margs\u001b[0m\u001b[0;34m,\u001b[0m \u001b[0;34m**\u001b[0m\u001b[0mkwargs\u001b[0m\u001b[0;34m)\u001b[0m\u001b[0;34m,\u001b[0m \u001b[0;32mNone\u001b[0m\u001b[0;34m)\u001b[0m\u001b[0;34m\u001b[0m\u001b[0;34m\u001b[0m\u001b[0m\n\u001b[0m\u001b[1;32m     88\u001b[0m     \u001b[0;32mexcept\u001b[0m \u001b[0mException\u001b[0m \u001b[0;32mas\u001b[0m \u001b[0me\u001b[0m\u001b[0;34m:\u001b[0m\u001b[0;34m\u001b[0m\u001b[0;34m\u001b[0m\u001b[0m\n\u001b[1;32m     89\u001b[0m         \u001b[0mtb\u001b[0m \u001b[0;34m=\u001b[0m \u001b[0mexc_info\u001b[0m\u001b[0;34m(\u001b[0m\u001b[0;34m)\u001b[0m\u001b[0;34m[\u001b[0m\u001b[0;36m2\u001b[0m\u001b[0;34m]\u001b[0m\u001b[0;34m\u001b[0m\u001b[0;34m\u001b[0m\u001b[0m\n",
      "\u001b[0;32m~/anaconda3/lib/python3.7/site-packages/tensorflow_datasets/core/download/download_manager.py\u001b[0m in \u001b[0;36mcallback\u001b[0;34m(val)\u001b[0m\n\u001b[1;32m    304\u001b[0m       \u001b[0mchecksum\u001b[0m\u001b[0;34m,\u001b[0m \u001b[0mdl_size\u001b[0m \u001b[0;34m=\u001b[0m \u001b[0mval\u001b[0m\u001b[0;34m\u001b[0m\u001b[0;34m\u001b[0m\u001b[0m\n\u001b[1;32m    305\u001b[0m       return self._handle_download_result(\n\u001b[0;32m--> 306\u001b[0;31m           resource, download_dir_path, checksum, dl_size)\n\u001b[0m\u001b[1;32m    307\u001b[0m     \u001b[0;32mreturn\u001b[0m \u001b[0mself\u001b[0m\u001b[0;34m.\u001b[0m\u001b[0m_downloader\u001b[0m\u001b[0;34m.\u001b[0m\u001b[0mdownload\u001b[0m\u001b[0;34m(\u001b[0m\u001b[0murl\u001b[0m\u001b[0;34m,\u001b[0m \u001b[0mdownload_dir_path\u001b[0m\u001b[0;34m)\u001b[0m\u001b[0;34m.\u001b[0m\u001b[0mthen\u001b[0m\u001b[0;34m(\u001b[0m\u001b[0mcallback\u001b[0m\u001b[0;34m)\u001b[0m\u001b[0;34m\u001b[0m\u001b[0;34m\u001b[0m\u001b[0m\n\u001b[1;32m    308\u001b[0m \u001b[0;34m\u001b[0m\u001b[0m\n",
      "\u001b[0;32m~/anaconda3/lib/python3.7/site-packages/tensorflow_datasets/core/download/download_manager.py\u001b[0m in \u001b[0;36m_handle_download_result\u001b[0;34m(self, resource, tmp_dir_path, sha256, dl_size)\u001b[0m\n\u001b[1;32m    259\u001b[0m       \u001b[0mself\u001b[0m\u001b[0;34m.\u001b[0m\u001b[0m_record_sizes_checksums\u001b[0m\u001b[0;34m(\u001b[0m\u001b[0;34m)\u001b[0m\u001b[0;34m\u001b[0m\u001b[0;34m\u001b[0m\u001b[0m\n\u001b[1;32m    260\u001b[0m     \u001b[0;32melif\u001b[0m \u001b[0;34m(\u001b[0m\u001b[0mdl_size\u001b[0m\u001b[0;34m,\u001b[0m \u001b[0msha256\u001b[0m\u001b[0;34m)\u001b[0m \u001b[0;34m!=\u001b[0m \u001b[0mself\u001b[0m\u001b[0;34m.\u001b[0m\u001b[0m_sizes_checksums\u001b[0m\u001b[0;34m.\u001b[0m\u001b[0mget\u001b[0m\u001b[0;34m(\u001b[0m\u001b[0mresource\u001b[0m\u001b[0;34m.\u001b[0m\u001b[0murl\u001b[0m\u001b[0;34m,\u001b[0m \u001b[0;32mNone\u001b[0m\u001b[0;34m)\u001b[0m\u001b[0;34m:\u001b[0m\u001b[0;34m\u001b[0m\u001b[0;34m\u001b[0m\u001b[0m\n\u001b[0;32m--> 261\u001b[0;31m       \u001b[0;32mraise\u001b[0m \u001b[0mNonMatchingChecksumError\u001b[0m\u001b[0;34m(\u001b[0m\u001b[0mresource\u001b[0m\u001b[0;34m.\u001b[0m\u001b[0murl\u001b[0m\u001b[0;34m,\u001b[0m \u001b[0mtmp_path\u001b[0m\u001b[0;34m)\u001b[0m\u001b[0;34m\u001b[0m\u001b[0;34m\u001b[0m\u001b[0m\n\u001b[0m\u001b[1;32m    262\u001b[0m     \u001b[0mdownload_path\u001b[0m \u001b[0;34m=\u001b[0m \u001b[0mself\u001b[0m\u001b[0;34m.\u001b[0m\u001b[0m_get_final_dl_path\u001b[0m\u001b[0;34m(\u001b[0m\u001b[0mresource\u001b[0m\u001b[0;34m.\u001b[0m\u001b[0murl\u001b[0m\u001b[0;34m,\u001b[0m \u001b[0msha256\u001b[0m\u001b[0;34m)\u001b[0m\u001b[0;34m\u001b[0m\u001b[0;34m\u001b[0m\u001b[0m\n\u001b[1;32m    263\u001b[0m     resource_lib.write_info_file(resource, download_path, self._dataset_name,\n",
      "\u001b[0;31mNonMatchingChecksumError\u001b[0m: Artifact https://www.robots.ox.ac.uk/~vgg/data/flowers/102/102flowers.tgz, downloaded to /Users/akanshasinghlnu/tensorflow_datasets/downloads/robots.ox.ac.uk_vgg_flowers_102_102flowersoWedSp98maBn1wypsDib6T-q2NVbO40fwvTflmPmQpY.tgz.tmp.63b75e4b6049419c9f015ea6f8527110/102flowers.tgz, has wrong checksum. This might indicate:\n * The website may be down (e.g. returned a 503 status code). Please check the url.\n * For Google Drive URLs, try again later as Drive sometimes rejects downloads when too many people access the same URL. See https://github.com/tensorflow/datasets/issues/1482\n * The original datasets files may have been updated. In this case the TFDS dataset builder should be updated to use the new files and checksums. Sorry about that. Please open an issue or send us a PR with a fix.\n * If you're adding a new dataset, don't forget to register the checksums as explained in: https://www.tensorflow.org/datasets/add_dataset#2_run_download_and_prepare_locally\n"
     ]
    }
   ],
   "source": [
    "dataset, dataset_info = tfds.load('oxford_flowers102', as_supervised=True, with_info=True)\n"
   ]
  },
  {
   "cell_type": "code",
   "execution_count": 3,
   "metadata": {},
   "outputs": [
    {
     "ename": "AttributeError",
     "evalue": "type object 'Split' has no attribute 'ALL'",
     "output_type": "error",
     "traceback": [
      "\u001b[0;31m---------------------------------------------------------------------------\u001b[0m",
      "\u001b[0;31mAttributeError\u001b[0m                            Traceback (most recent call last)",
      "\u001b[0;32m<ipython-input-3-37e57fd55a4c>\u001b[0m in \u001b[0;36m<module>\u001b[0;34m\u001b[0m\n\u001b[1;32m      2\u001b[0m \u001b[0mtest_val_split\u001b[0m \u001b[0;34m=\u001b[0m \u001b[0;36m20\u001b[0m\u001b[0;34m\u001b[0m\u001b[0;34m\u001b[0m\u001b[0m\n\u001b[1;32m      3\u001b[0m \u001b[0;34m\u001b[0m\u001b[0m\n\u001b[0;32m----> 4\u001b[0;31m \u001b[0msplits\u001b[0m \u001b[0;34m=\u001b[0m \u001b[0mtfds\u001b[0m\u001b[0;34m.\u001b[0m\u001b[0mSplit\u001b[0m\u001b[0;34m.\u001b[0m\u001b[0mALL\u001b[0m\u001b[0;34m.\u001b[0m\u001b[0msubsplit\u001b[0m\u001b[0;34m(\u001b[0m\u001b[0;34m[\u001b[0m\u001b[0mtrain_split\u001b[0m\u001b[0;34m,\u001b[0m \u001b[0mtest_val_split\u001b[0m\u001b[0;34m,\u001b[0m \u001b[0mtest_val_split\u001b[0m\u001b[0;34m]\u001b[0m\u001b[0;34m)\u001b[0m\u001b[0;34m\u001b[0m\u001b[0;34m\u001b[0m\u001b[0m\n\u001b[0m",
      "\u001b[0;31mAttributeError\u001b[0m: type object 'Split' has no attribute 'ALL'"
     ]
    }
   ],
   "source": [
    "train_split = 60\n",
    "test_val_split = 20\n",
    "\n",
    "splits = tfds.Split.ALL.subsplit([train_split, test_val_split, test_val_split])"
   ]
  },
  {
   "cell_type": "code",
   "execution_count": null,
   "metadata": {},
   "outputs": [
    {
     "name": "stdout",
     "output_type": "stream",
     "text": [
      "I0505 10:16:07.629642 4603192768 download_and_prepare.py:194] Running download_and_prepare for dataset(s):\n",
      "oxford_flowers102\n",
      "I0505 10:16:07.802696 4603192768 dataset_info.py:430] Load pre-computed DatasetInfo (eg: splits, num examples,...) from GCS: oxford_flowers102/2.1.0\n",
      "I0505 10:16:08.813424 4603192768 dataset_info.py:361] Load dataset info from /var/folders/3f/zmh1hs5j2vv76bml_5h7h0zc0000gn/T/tmp7a5trpwvtfds\n",
      "I0505 10:16:08.815791 4603192768 dataset_info.py:401] Field info.description from disk and from code do not match. Keeping the one from code.\n",
      "I0505 10:16:08.815922 4603192768 dataset_info.py:401] Field info.citation from disk and from code do not match. Keeping the one from code.\n",
      "I0505 10:16:08.816222 4603192768 download_and_prepare.py:133] download_and_prepare for dataset oxford_flowers102/2.1.0...\n",
      "I0505 10:16:08.816561 4603192768 dataset_builder.py:333] Generating dataset oxford_flowers102 (/Users/akanshasinghlnu/tensorflow_datasets/oxford_flowers102/2.1.0)\n",
      "\u001b[1mDownloading and preparing dataset oxford_flowers102/2.1.0 (download: 336.76 MiB, generated: 331.34 MiB, total: 668.11 MiB) to /Users/akanshasinghlnu/tensorflow_datasets/oxford_flowers102/2.1.0...\u001b[0m\n",
      "Dl Completed...: 0 url [00:00, ? url/s]\n",
      "Dl Size...: 0 MiB [00:00, ? MiB/s]\u001b[A\n",
      "\n",
      "Extraction completed...: 0 file [00:00, ? file/s]\u001b[A\u001b[AI0505 10:16:09.117457 4603192768 download_manager.py:301] Downloading https://www.robots.ox.ac.uk/~vgg/data/flowers/102/102flowers.tgz into /Users/akanshasinghlnu/tensorflow_datasets/downloads/robots.ox.ac.uk_vgg_flowers_102_102flowersoWedSp98maBn1wypsDib6T-q2NVbO40fwvTflmPmQpY.tgz.tmp.5d629dfdce4445d1adc6148bbed9d3d9...\n",
      "Dl Completed...:   0%|                                  | 0/1 [00:00<?, ? url/s]\n",
      "Dl Size...: 0 MiB [00:00, ? MiB/s]\u001b[A\n",
      "\n",
      "Extraction completed...: 0 file [00:00, ? file/s]\u001b[A\u001b[AI0505 10:16:09.119282 4603192768 download_manager.py:291] URL https://www.robots.ox.ac.uk/~vgg/data/flowers/102/imagelabels.mat already downloaded: reusing /Users/akanshasinghlnu/tensorflow_datasets/downloads/robots.ox.ac.uk_vgg_flowers_102_imagelabelSQPpQga6wjv3cqrfBkUZFt9WtY_Eg6YtsyqXuCZWZR0.mat.\n",
      "I0505 10:16:09.120178 4603192768 download_manager.py:318] Skipping extraction for /Users/akanshasinghlnu/tensorflow_datasets/downloads/robots.ox.ac.uk_vgg_flowers_102_imagelabelSQPpQga6wjv3cqrfBkUZFt9WtY_Eg6YtsyqXuCZWZR0.mat (method=NO_EXTRACT).\n",
      "I0505 10:16:09.121490 4603192768 download_manager.py:291] URL https://www.robots.ox.ac.uk/~vgg/data/flowers/102/setid.mat already downloaded: reusing /Users/akanshasinghlnu/tensorflow_datasets/downloads/robots.ox.ac.uk_vgg_flowers_102_setidRrhnj5H9ldPI9P6rgNJxpsg0od2Jb-Kf0-atnOXI3M0.mat.\n",
      "I0505 10:16:09.122156 4603192768 download_manager.py:318] Skipping extraction for /Users/akanshasinghlnu/tensorflow_datasets/downloads/robots.ox.ac.uk_vgg_flowers_102_setidRrhnj5H9ldPI9P6rgNJxpsg0od2Jb-Kf0-atnOXI3M0.mat (method=NO_EXTRACT).\n",
      "/Users/akanshasinghlnu/anaconda3/lib/python3.7/site-packages/urllib3/connectionpool.py:1004: InsecureRequestWarning: Unverified HTTPS request is being made. Adding certificate verification is strongly advised. See: https://urllib3.readthedocs.io/en/latest/advanced-usage.html#ssl-warnings\n",
      "  InsecureRequestWarning,\n",
      "Dl Completed...:   0%|                                  | 0/1 [00:01<?, ? url/s]\n",
      "Dl Size...:   0%|                                     | 0/328 [00:01<?, ? MiB/s]\u001b[A\n",
      "\n",
      "Extraction completed...: 0 file [00:01, ? file/s]\u001b[A\u001b[A\n",
      "Dl Completed...:   0%|                                  | 0/1 [00:02<?, ? url/s]\u001b[A\n",
      "Dl Size...:   0%|                             | 1/328 [00:02<13:49,  2.54s/ MiB]\u001b[A\n",
      "\n",
      "Extraction completed...: 0 file [00:02, ? file/s]\u001b[A\u001b[A\n",
      "Dl Completed...:   0%|                                  | 0/1 [00:03<?, ? url/s]\u001b[A\n",
      "Dl Size...:   1%|▏                            | 2/328 [00:03<10:24,  1.92s/ MiB]\u001b[A\n",
      "\n",
      "Extraction completed...: 0 file [00:03, ? file/s]\u001b[A\u001b[A\n",
      "Dl Completed...:   0%|                                  | 0/1 [00:03<?, ? url/s]\u001b[A\n",
      "Dl Size...:   1%|▎                            | 3/328 [00:03<08:02,  1.48s/ MiB]\u001b[A\n",
      "\n",
      "Extraction completed...: 0 file [00:03, ? file/s]\u001b[A\u001b[A\n",
      "Dl Completed...:   0%|                                  | 0/1 [00:03<?, ? url/s]\u001b[A\n",
      "Dl Size...:   1%|▎                            | 4/328 [00:03<06:22,  1.18s/ MiB]\u001b[A\n",
      "\n",
      "Extraction completed...: 0 file [00:03, ? file/s]\u001b[A\u001b[A\n",
      "Dl Completed...:   0%|                                  | 0/1 [00:04<?, ? url/s]\u001b[A\n",
      "Dl Size...:   2%|▍                            | 5/328 [00:04<05:13,  1.03 MiB/s]\u001b[A\n",
      "\n",
      "Extraction completed...: 0 file [00:04, ? file/s]\u001b[A\u001b[A\n",
      "Dl Completed...:   0%|                                  | 0/1 [00:04<?, ? url/s]\u001b[A\n",
      "Dl Size...:   2%|▌                            | 6/328 [00:04<04:24,  1.22 MiB/s]\u001b[A\n",
      "\n",
      "Extraction completed...: 0 file [00:04, ? file/s]\u001b[A\u001b[A\n",
      "Dl Completed...:   0%|                                  | 0/1 [00:05<?, ? url/s]\u001b[A\n",
      "Dl Size...:   2%|▌                            | 7/328 [00:05<03:49,  1.40 MiB/s]\u001b[A\n",
      "\n",
      "Extraction completed...: 0 file [00:05, ? file/s]\u001b[A\u001b[A\n",
      "Dl Completed...:   0%|                                  | 0/1 [00:05<?, ? url/s]\u001b[A\n",
      "Dl Size...:   2%|▋                            | 8/328 [00:05<03:25,  1.56 MiB/s]\u001b[A\n",
      "\n",
      "Extraction completed...: 0 file [00:05, ? file/s]\u001b[A\u001b[A\n",
      "Dl Completed...:   0%|                                  | 0/1 [00:06<?, ? url/s]\u001b[A\n",
      "Dl Size...:   3%|▊                            | 9/328 [00:06<03:08,  1.69 MiB/s]\u001b[A\n",
      "\n",
      "Extraction completed...: 0 file [00:06, ? file/s]\u001b[A\u001b[A\n",
      "Dl Completed...:   0%|                                  | 0/1 [00:06<?, ? url/s]\u001b[A\n",
      "Dl Size...:   3%|▊                           | 10/328 [00:06<02:56,  1.80 MiB/s]\u001b[A\n",
      "\n",
      "Extraction completed...: 0 file [00:06, ? file/s]\u001b[A\u001b[A\n",
      "Dl Completed...:   0%|                                  | 0/1 [00:07<?, ? url/s]\u001b[A\n",
      "Dl Size...:   3%|▉                           | 11/328 [00:07<02:48,  1.88 MiB/s]\u001b[A\n",
      "\n",
      "Extraction completed...: 0 file [00:07, ? file/s]\u001b[A\u001b[A\n",
      "Dl Completed...:   0%|                                  | 0/1 [00:07<?, ? url/s]\u001b[A\n",
      "Dl Size...:   4%|█                           | 12/328 [00:07<02:42,  1.95 MiB/s]\u001b[A\n",
      "\n",
      "Extraction completed...: 0 file [00:07, ? file/s]\u001b[A\u001b[A\n",
      "Dl Completed...:   0%|                                  | 0/1 [00:08<?, ? url/s]\u001b[A\n",
      "Dl Size...:   4%|█                           | 13/328 [00:08<02:37,  1.99 MiB/s]\u001b[A\n",
      "\n",
      "Extraction completed...: 0 file [00:08, ? file/s]\u001b[A\u001b[A\n",
      "Dl Completed...:   0%|                                  | 0/1 [00:08<?, ? url/s]\u001b[A\n",
      "Dl Size...:   4%|█▏                          | 14/328 [00:08<02:34,  2.03 MiB/s]\u001b[A\n",
      "\n",
      "Extraction completed...: 0 file [00:08, ? file/s]\u001b[A\u001b[A\n",
      "Dl Completed...:   0%|                                  | 0/1 [00:09<?, ? url/s]\u001b[A\n",
      "Dl Size...:   5%|█▎                          | 15/328 [00:09<02:32,  2.05 MiB/s]\u001b[A\n",
      "\n",
      "Extraction completed...: 0 file [00:09, ? file/s]\u001b[A\u001b[A\n",
      "Dl Completed...:   0%|                                  | 0/1 [00:09<?, ? url/s]\u001b[A\n",
      "Dl Size...:   5%|█▎                          | 16/328 [00:09<02:30,  2.08 MiB/s]\u001b[A\n",
      "\n",
      "Extraction completed...: 0 file [00:09, ? file/s]\u001b[A\u001b[A\n",
      "Dl Completed...:   0%|                                  | 0/1 [00:10<?, ? url/s]\u001b[A\n",
      "Dl Size...:   5%|█▍                          | 17/328 [00:10<02:28,  2.09 MiB/s]\u001b[A\n",
      "\n",
      "Extraction completed...: 0 file [00:10, ? file/s]\u001b[A\u001b[A\n",
      "Dl Completed...:   0%|                                  | 0/1 [00:10<?, ? url/s]\u001b[A\n",
      "Dl Size...:   5%|█▌                          | 18/328 [00:10<02:27,  2.10 MiB/s]\u001b[A\n",
      "\n",
      "Extraction completed...: 0 file [00:10, ? file/s]\u001b[A\u001b[A\n",
      "Dl Completed...:   0%|                                  | 0/1 [00:11<?, ? url/s]\u001b[A\n",
      "Dl Size...:   6%|█▌                          | 19/328 [00:11<02:26,  2.10 MiB/s]\u001b[A\n",
      "\n",
      "Extraction completed...: 0 file [00:11, ? file/s]\u001b[A\u001b[A\n",
      "Dl Completed...:   0%|                                  | 0/1 [00:11<?, ? url/s]\u001b[A\n",
      "Dl Size...:   6%|█▋                          | 20/328 [00:11<02:26,  2.10 MiB/s]\u001b[A\n",
      "\n",
      "Extraction completed...: 0 file [00:11, ? file/s]\u001b[A\u001b[A\n",
      "Dl Completed...:   0%|                                  | 0/1 [00:11<?, ? url/s]\u001b[A\n",
      "Dl Size...:   6%|█▊                          | 21/328 [00:11<02:25,  2.11 MiB/s]\u001b[A\n",
      "\n",
      "Extraction completed...: 0 file [00:11, ? file/s]\u001b[A\u001b[A\n",
      "Dl Completed...:   0%|                                  | 0/1 [00:12<?, ? url/s]\u001b[A\n",
      "Dl Size...:   7%|█▉                          | 22/328 [00:12<02:24,  2.11 MiB/s]\u001b[A\n",
      "\n"
     ]
    },
    {
     "name": "stdout",
     "output_type": "stream",
     "text": [
      "Extraction completed...: 0 file [00:12, ? file/s]\u001b[A\u001b[A\n",
      "Dl Completed...:   0%|                                  | 0/1 [00:12<?, ? url/s]\u001b[A\n",
      "Dl Size...:   7%|█▉                          | 23/328 [00:12<02:24,  2.11 MiB/s]\u001b[A\n",
      "\n",
      "Extraction completed...: 0 file [00:12, ? file/s]\u001b[A\u001b[A\n",
      "Dl Completed...:   0%|                                  | 0/1 [00:13<?, ? url/s]\u001b[A\n",
      "Dl Size...:   7%|██                          | 24/328 [00:13<02:24,  2.10 MiB/s]\u001b[A\n",
      "\n",
      "Extraction completed...: 0 file [00:13, ? file/s]\u001b[A\u001b[A\n",
      "Dl Completed...:   0%|                                  | 0/1 [00:13<?, ? url/s]\u001b[A\n",
      "Dl Size...:   8%|██▏                         | 25/328 [00:13<02:29,  2.03 MiB/s]\u001b[A\n",
      "\n",
      "Extraction completed...: 0 file [00:13, ? file/s]\u001b[A\u001b[A\n",
      "Dl Completed...:   0%|                                  | 0/1 [00:14<?, ? url/s]\u001b[A\n",
      "Dl Size...:   8%|██▏                         | 26/328 [00:14<02:29,  2.02 MiB/s]\u001b[A\n",
      "\n",
      "Extraction completed...: 0 file [00:14, ? file/s]\u001b[A\u001b[A\n",
      "Dl Completed...:   0%|                                  | 0/1 [00:14<?, ? url/s]\u001b[A\n",
      "Dl Size...:   8%|██▎                         | 27/328 [00:14<02:28,  2.02 MiB/s]\u001b[A\n",
      "\n",
      "Extraction completed...: 0 file [00:14, ? file/s]\u001b[A\u001b[A\n",
      "Dl Completed...:   0%|                                  | 0/1 [00:15<?, ? url/s]\u001b[A\n",
      "Dl Size...:   9%|██▍                         | 28/328 [00:15<02:26,  2.05 MiB/s]\u001b[A\n",
      "\n",
      "Extraction completed...: 0 file [00:15, ? file/s]\u001b[A\u001b[A\n",
      "Dl Completed...:   0%|                                  | 0/1 [00:15<?, ? url/s]\u001b[A\n",
      "Dl Size...:   9%|██▍                         | 29/328 [00:15<02:14,  2.23 MiB/s]\u001b[A\n",
      "\n",
      "Extraction completed...: 0 file [00:15, ? file/s]\u001b[A\u001b[A\n",
      "Dl Completed...:   0%|                                  | 0/1 [00:16<?, ? url/s]\u001b[A\n",
      "Dl Size...:   9%|██▌                         | 30/328 [00:16<02:28,  2.01 MiB/s]\u001b[A\n",
      "\n",
      "Extraction completed...: 0 file [00:16, ? file/s]\u001b[A\u001b[A\n",
      "Dl Completed...:   0%|                                  | 0/1 [00:16<?, ? url/s]\u001b[A\n",
      "Dl Size...:   9%|██▋                         | 31/328 [00:16<02:13,  2.23 MiB/s]\u001b[A\n",
      "\n",
      "Extraction completed...: 0 file [00:16, ? file/s]\u001b[A\u001b[A\n",
      "Dl Completed...:   0%|                                  | 0/1 [00:17<?, ? url/s]\u001b[A\n",
      "Dl Size...:  10%|██▋                         | 32/328 [00:17<02:26,  2.02 MiB/s]\u001b[A\n",
      "\n",
      "Extraction completed...: 0 file [00:17, ? file/s]\u001b[A\u001b[A\n",
      "Dl Completed...:   0%|                                  | 0/1 [00:17<?, ? url/s]\u001b[A\n",
      "Dl Size...:  10%|██▊                         | 33/328 [00:17<02:17,  2.14 MiB/s]\u001b[A\n",
      "\n",
      "Extraction completed...: 0 file [00:17, ? file/s]\u001b[A\u001b[A\n",
      "Dl Completed...:   0%|                                  | 0/1 [00:18<?, ? url/s]\u001b[A\n",
      "Dl Size...:  10%|██▉                         | 34/328 [00:18<02:12,  2.22 MiB/s]\u001b[A\n",
      "\n",
      "Extraction completed...: 0 file [00:18, ? file/s]\u001b[A\u001b[A\n",
      "Dl Completed...:   0%|                                  | 0/1 [00:18<?, ? url/s]\u001b[A\n",
      "Dl Size...:  11%|██▉                         | 35/328 [00:18<02:21,  2.07 MiB/s]\u001b[A\n",
      "\n",
      "Extraction completed...: 0 file [00:18, ? file/s]\u001b[A\u001b[A\n",
      "Dl Completed...:   0%|                                  | 0/1 [00:19<?, ? url/s]\u001b[A\n",
      "Dl Size...:  11%|███                         | 36/328 [00:19<02:12,  2.20 MiB/s]\u001b[A\n",
      "\n",
      "Extraction completed...: 0 file [00:19, ? file/s]\u001b[A\u001b[A\n",
      "Dl Completed...:   0%|                                  | 0/1 [00:19<?, ? url/s]\u001b[A\n",
      "Dl Size...:  11%|███▏                        | 37/328 [00:19<02:17,  2.12 MiB/s]\u001b[A\n",
      "\n",
      "Extraction completed...: 0 file [00:19, ? file/s]\u001b[A\u001b[A\n",
      "Dl Completed...:   0%|                                  | 0/1 [00:20<?, ? url/s]\u001b[A\n",
      "Dl Size...:  12%|███▏                        | 38/328 [00:20<02:13,  2.18 MiB/s]\u001b[A\n",
      "\n",
      "Extraction completed...: 0 file [00:20, ? file/s]\u001b[A\u001b[A\n",
      "Dl Completed...:   0%|                                  | 0/1 [00:20<?, ? url/s]\u001b[A\n",
      "Dl Size...:  12%|███▎                        | 39/328 [00:20<02:14,  2.15 MiB/s]\u001b[A\n",
      "\n",
      "Extraction completed...: 0 file [00:20, ? file/s]\u001b[A\u001b[A\n",
      "Dl Completed...:   0%|                                  | 0/1 [00:20<?, ? url/s]\u001b[A\n",
      "Dl Size...:  12%|███▍                        | 40/328 [00:20<02:14,  2.13 MiB/s]\u001b[A\n",
      "\n",
      "Extraction completed...: 0 file [00:20, ? file/s]\u001b[A\u001b[A\n",
      "Dl Completed...:   0%|                                  | 0/1 [00:21<?, ? url/s]\u001b[A\n",
      "Dl Size...:  12%|███▌                        | 41/328 [00:21<02:14,  2.14 MiB/s]\u001b[A\n",
      "\n",
      "Extraction completed...: 0 file [00:21, ? file/s]\u001b[A\u001b[A\n",
      "Dl Completed...:   0%|                                  | 0/1 [00:21<?, ? url/s]\u001b[A\n",
      "Dl Size...:  13%|███▌                        | 42/328 [00:21<02:14,  2.13 MiB/s]\u001b[A\n",
      "\n",
      "Extraction completed...: 0 file [00:21, ? file/s]\u001b[A\u001b[A\n",
      "Dl Completed...:   0%|                                  | 0/1 [00:22<?, ? url/s]\u001b[A\n",
      "Dl Size...:  13%|███▋                        | 43/328 [00:22<02:14,  2.13 MiB/s]\u001b[A\n",
      "\n",
      "Extraction completed...: 0 file [00:22, ? file/s]\u001b[A\u001b[A\n",
      "Dl Completed...:   0%|                                  | 0/1 [00:22<?, ? url/s]\u001b[A\n",
      "Dl Size...:  13%|███▊                        | 44/328 [00:22<02:13,  2.12 MiB/s]\u001b[A\n",
      "\n",
      "Extraction completed...: 0 file [00:22, ? file/s]\u001b[A\u001b[A\n",
      "Dl Completed...:   0%|                                  | 0/1 [00:23<?, ? url/s]\u001b[A\n",
      "Dl Size...:  14%|███▊                        | 45/328 [00:23<02:13,  2.12 MiB/s]\u001b[A\n",
      "\n",
      "Extraction completed...: 0 file [00:23, ? file/s]\u001b[A\u001b[A\n",
      "Dl Completed...:   0%|                                  | 0/1 [00:23<?, ? url/s]\u001b[A\n",
      "Dl Size...:  14%|███▉                        | 46/328 [00:23<02:13,  2.12 MiB/s]\u001b[A\n",
      "\n",
      "Extraction completed...: 0 file [00:23, ? file/s]\u001b[A\u001b[A\n",
      "Dl Completed...:   0%|                                  | 0/1 [00:24<?, ? url/s]\u001b[A\n",
      "Dl Size...:  14%|████                        | 47/328 [00:24<02:12,  2.12 MiB/s]\u001b[A\n",
      "\n",
      "Extraction completed...: 0 file [00:24, ? file/s]\u001b[A\u001b[A\n",
      "Dl Completed...:   0%|                                  | 0/1 [00:24<?, ? url/s]\u001b[A\n",
      "Dl Size...:  15%|████                        | 48/328 [00:24<02:12,  2.12 MiB/s]\u001b[A\n",
      "\n",
      "Extraction completed...: 0 file [00:24, ? file/s]\u001b[A\u001b[A\n",
      "Dl Completed...:   0%|                                  | 0/1 [00:25<?, ? url/s]\u001b[A\n",
      "Dl Size...:  15%|████▏                       | 49/328 [00:25<02:11,  2.12 MiB/s]\u001b[A\n",
      "\n",
      "Extraction completed...: 0 file [00:25, ? file/s]\u001b[A\u001b[A\n",
      "Dl Completed...:   0%|                                  | 0/1 [00:25<?, ? url/s]\u001b[A\n",
      "Dl Size...:  15%|████▎                       | 50/328 [00:25<02:11,  2.12 MiB/s]\u001b[A\n",
      "\n",
      "Extraction completed...: 0 file [00:25, ? file/s]\u001b[A\u001b[A\n",
      "Dl Completed...:   0%|                                  | 0/1 [00:26<?, ? url/s]\u001b[A\n",
      "Dl Size...:  16%|████▎                       | 51/328 [00:26<02:10,  2.12 MiB/s]\u001b[A\n",
      "\n",
      "Extraction completed...: 0 file [00:26, ? file/s]\u001b[A\u001b[A\n",
      "Dl Completed...:   0%|                                  | 0/1 [00:26<?, ? url/s]\u001b[A\n",
      "Dl Size...:  16%|████▍                       | 52/328 [00:26<02:10,  2.12 MiB/s]\u001b[A\n",
      "\n",
      "Extraction completed...: 0 file [00:26, ? file/s]\u001b[A\u001b[A\n",
      "Dl Completed...:   0%|                                  | 0/1 [00:27<?, ? url/s]\u001b[A\n",
      "Dl Size...:  16%|████▌                       | 53/328 [00:27<02:10,  2.11 MiB/s]\u001b[A\n",
      "\n",
      "Extraction completed...: 0 file [00:27, ? file/s]\u001b[A\u001b[A\n",
      "Dl Completed...:   0%|                                  | 0/1 [00:27<?, ? url/s]\u001b[A\n",
      "Dl Size...:  16%|████▌                       | 54/328 [00:27<02:09,  2.11 MiB/s]\u001b[A\n",
      "\n",
      "Extraction completed...: 0 file [00:27, ? file/s]\u001b[A\u001b[A\n",
      "Dl Completed...:   0%|                                  | 0/1 [00:28<?, ? url/s]\u001b[A\n",
      "Dl Size...:  17%|████▋                       | 55/328 [00:28<02:09,  2.12 MiB/s]\u001b[A\n",
      "\n",
      "Extraction completed...: 0 file [00:28, ? file/s]\u001b[A\u001b[A\n",
      "Dl Completed...:   0%|                                  | 0/1 [00:28<?, ? url/s]\u001b[A\n",
      "Dl Size...:  17%|████▊                       | 56/328 [00:28<02:08,  2.12 MiB/s]\u001b[A\n",
      "\n",
      "Extraction completed...: 0 file [00:28, ? file/s]\u001b[A\u001b[A\n",
      "Dl Completed...:   0%|                                  | 0/1 [00:29<?, ? url/s]\u001b[A\n",
      "Dl Size...:  17%|████▊                       | 57/328 [00:29<02:08,  2.12 MiB/s]\u001b[A\n",
      "\n",
      "Extraction completed...: 0 file [00:29, ? file/s]\u001b[A\u001b[A\n",
      "Dl Completed...:   0%|                                  | 0/1 [00:29<?, ? url/s]\u001b[A\n",
      "Dl Size...:  18%|████▉                       | 58/328 [00:29<02:07,  2.12 MiB/s]\u001b[A\n",
      "\n",
      "Extraction completed...: 0 file [00:29, ? file/s]\u001b[A\u001b[A\n",
      "Dl Completed...:   0%|                                  | 0/1 [00:29<?, ? url/s]\u001b[A\n",
      "Dl Size...:  18%|█████                       | 59/328 [00:29<02:07,  2.11 MiB/s]\u001b[A\n",
      "\n"
     ]
    },
    {
     "name": "stdout",
     "output_type": "stream",
     "text": [
      "Extraction completed...: 0 file [00:29, ? file/s]\u001b[A\u001b[A\n",
      "Dl Completed...:   0%|                                  | 0/1 [00:30<?, ? url/s]\u001b[A\n",
      "Dl Size...:  18%|█████                       | 60/328 [00:30<02:06,  2.12 MiB/s]\u001b[A\n",
      "\n",
      "Extraction completed...: 0 file [00:30, ? file/s]\u001b[A\u001b[A\n",
      "Dl Completed...:   0%|                                  | 0/1 [00:30<?, ? url/s]\u001b[A\n",
      "Dl Size...:  19%|█████▏                      | 61/328 [00:30<02:06,  2.12 MiB/s]\u001b[A\n",
      "\n",
      "Extraction completed...: 0 file [00:30, ? file/s]\u001b[A\u001b[A\n",
      "Dl Completed...:   0%|                                  | 0/1 [00:31<?, ? url/s]\u001b[A\n",
      "Dl Size...:  19%|█████▎                      | 62/328 [00:31<02:05,  2.12 MiB/s]\u001b[A\n",
      "\n",
      "Extraction completed...: 0 file [00:31, ? file/s]\u001b[A\u001b[A\n",
      "Dl Completed...:   0%|                                  | 0/1 [00:31<?, ? url/s]\u001b[A\n",
      "Dl Size...:  19%|█████▍                      | 63/328 [00:31<02:05,  2.12 MiB/s]\u001b[A\n",
      "\n",
      "Extraction completed...: 0 file [00:31, ? file/s]\u001b[A\u001b[A\n",
      "Dl Completed...:   0%|                                  | 0/1 [00:32<?, ? url/s]\u001b[A\n",
      "Dl Size...:  20%|█████▍                      | 64/328 [00:32<02:05,  2.11 MiB/s]\u001b[A\n",
      "\n",
      "Extraction completed...: 0 file [00:32, ? file/s]\u001b[A\u001b[A\n",
      "Dl Completed...:   0%|                                  | 0/1 [00:32<?, ? url/s]\u001b[A\n",
      "Dl Size...:  20%|█████▌                      | 65/328 [00:32<02:04,  2.12 MiB/s]\u001b[A\n",
      "\n",
      "Extraction completed...: 0 file [00:32, ? file/s]\u001b[A\u001b[A\n",
      "Dl Completed...:   0%|                                  | 0/1 [00:33<?, ? url/s]\u001b[A\n",
      "Dl Size...:  20%|█████▋                      | 66/328 [00:33<02:04,  2.11 MiB/s]\u001b[A\n",
      "\n",
      "Extraction completed...: 0 file [00:33, ? file/s]\u001b[A\u001b[A\n",
      "Dl Completed...:   0%|                                  | 0/1 [00:33<?, ? url/s]\u001b[A\n",
      "Dl Size...:  20%|█████▋                      | 67/328 [00:33<02:04,  2.10 MiB/s]\u001b[A\n",
      "\n",
      "Extraction completed...: 0 file [00:33, ? file/s]\u001b[A\u001b[A\n",
      "Dl Completed...:   0%|                                  | 0/1 [00:34<?, ? url/s]\u001b[A\n",
      "Dl Size...:  21%|█████▊                      | 68/328 [00:34<02:03,  2.11 MiB/s]\u001b[A\n",
      "\n",
      "Extraction completed...: 0 file [00:34, ? file/s]\u001b[A\u001b[A\n",
      "Dl Completed...:   0%|                                  | 0/1 [00:34<?, ? url/s]\u001b[A\n",
      "Dl Size...:  21%|█████▉                      | 69/328 [00:34<02:02,  2.11 MiB/s]\u001b[A\n",
      "\n",
      "Extraction completed...: 0 file [00:34, ? file/s]\u001b[A\u001b[A\n",
      "Dl Completed...:   0%|                                  | 0/1 [00:35<?, ? url/s]\u001b[A\n",
      "Dl Size...:  21%|█████▉                      | 70/328 [00:35<02:02,  2.11 MiB/s]\u001b[A\n",
      "\n",
      "Extraction completed...: 0 file [00:35, ? file/s]\u001b[A\u001b[A\n",
      "Dl Completed...:   0%|                                  | 0/1 [00:35<?, ? url/s]\u001b[A\n",
      "Dl Size...:  22%|██████                      | 71/328 [00:35<02:01,  2.12 MiB/s]\u001b[A\n",
      "\n",
      "Extraction completed...: 0 file [00:35, ? file/s]\u001b[A\u001b[A\n",
      "Dl Completed...:   0%|                                  | 0/1 [00:36<?, ? url/s]\u001b[A\n",
      "Dl Size...:  22%|██████▏                     | 72/328 [00:36<02:01,  2.11 MiB/s]\u001b[A\n",
      "\n",
      "Extraction completed...: 0 file [00:36, ? file/s]\u001b[A\u001b[A\n",
      "Dl Completed...:   0%|                                  | 0/1 [00:36<?, ? url/s]\u001b[A\n",
      "Dl Size...:  22%|██████▏                     | 73/328 [00:36<02:00,  2.11 MiB/s]\u001b[A\n",
      "\n",
      "Extraction completed...: 0 file [00:36, ? file/s]\u001b[A\u001b[A\n",
      "Dl Completed...:   0%|                                  | 0/1 [00:37<?, ? url/s]\u001b[A\n",
      "Dl Size...:  23%|██████▎                     | 74/328 [00:37<02:00,  2.11 MiB/s]\u001b[A\n",
      "\n",
      "Extraction completed...: 0 file [00:37, ? file/s]\u001b[A\u001b[A\n",
      "Dl Completed...:   0%|                                  | 0/1 [00:37<?, ? url/s]\u001b[A\n",
      "Dl Size...:  23%|██████▍                     | 75/328 [00:37<01:59,  2.12 MiB/s]\u001b[A\n",
      "\n",
      "Extraction completed...: 0 file [00:37, ? file/s]\u001b[A\u001b[A\n",
      "Dl Completed...:   0%|                                  | 0/1 [00:38<?, ? url/s]\u001b[A\n",
      "Dl Size...:  23%|██████▍                     | 76/328 [00:38<01:59,  2.11 MiB/s]\u001b[A\n",
      "\n",
      "Extraction completed...: 0 file [00:38, ? file/s]\u001b[A\u001b[A\n",
      "Dl Completed...:   0%|                                  | 0/1 [00:38<?, ? url/s]\u001b[A\n",
      "Dl Size...:  23%|██████▌                     | 77/328 [00:38<01:58,  2.12 MiB/s]\u001b[A\n",
      "\n",
      "Extraction completed...: 0 file [00:38, ? file/s]\u001b[A\u001b[A\n",
      "Dl Completed...:   0%|                                  | 0/1 [00:38<?, ? url/s]\u001b[A\n",
      "Dl Size...:  24%|██████▋                     | 78/328 [00:38<01:58,  2.12 MiB/s]\u001b[A\n",
      "\n",
      "Extraction completed...: 0 file [00:38, ? file/s]\u001b[A\u001b[A\n",
      "Dl Completed...:   0%|                                  | 0/1 [00:39<?, ? url/s]\u001b[A\n",
      "Dl Size...:  24%|██████▋                     | 79/328 [00:39<01:57,  2.12 MiB/s]\u001b[A\n",
      "\n",
      "Extraction completed...: 0 file [00:39, ? file/s]\u001b[A\u001b[A\n",
      "Dl Completed...:   0%|                                  | 0/1 [00:39<?, ? url/s]\u001b[A\n",
      "Dl Size...:  24%|██████▊                     | 80/328 [00:39<01:57,  2.11 MiB/s]\u001b[A\n",
      "\n",
      "Extraction completed...: 0 file [00:39, ? file/s]\u001b[A\u001b[A\n",
      "Dl Completed...:   0%|                                  | 0/1 [00:40<?, ? url/s]\u001b[A\n",
      "Dl Size...:  25%|██████▉                     | 81/328 [00:40<01:56,  2.11 MiB/s]\u001b[A\n",
      "\n",
      "Extraction completed...: 0 file [00:40, ? file/s]\u001b[A\u001b[A\n",
      "Dl Completed...:   0%|                                  | 0/1 [00:40<?, ? url/s]\u001b[A\n",
      "Dl Size...:  25%|███████                     | 82/328 [00:40<01:56,  2.12 MiB/s]\u001b[A\n",
      "\n",
      "Extraction completed...: 0 file [00:40, ? file/s]\u001b[A\u001b[A\n",
      "Dl Completed...:   0%|                                  | 0/1 [00:41<?, ? url/s]\u001b[A\n",
      "Dl Size...:  25%|███████                     | 83/328 [00:41<01:55,  2.12 MiB/s]\u001b[A\n",
      "\n",
      "Extraction completed...: 0 file [00:41, ? file/s]\u001b[A\u001b[A\n",
      "Dl Completed...:   0%|                                  | 0/1 [00:41<?, ? url/s]\u001b[A\n",
      "Dl Size...:  26%|███████▏                    | 84/328 [00:41<01:55,  2.12 MiB/s]\u001b[A\n",
      "\n",
      "Extraction completed...: 0 file [00:41, ? file/s]\u001b[A\u001b[A\n",
      "Dl Completed...:   0%|                                  | 0/1 [00:42<?, ? url/s]\u001b[A\n",
      "Dl Size...:  26%|███████▎                    | 85/328 [00:42<01:54,  2.12 MiB/s]\u001b[A\n",
      "\n",
      "Extraction completed...: 0 file [00:42, ? file/s]\u001b[A\u001b[A\n",
      "Dl Completed...:   0%|                                  | 0/1 [00:42<?, ? url/s]\u001b[A\n",
      "Dl Size...:  26%|███████▎                    | 86/328 [00:42<01:54,  2.12 MiB/s]\u001b[A\n",
      "\n",
      "Extraction completed...: 0 file [00:42, ? file/s]\u001b[A\u001b[A\n",
      "Dl Completed...:   0%|                                  | 0/1 [00:43<?, ? url/s]\u001b[A\n",
      "Dl Size...:  27%|███████▍                    | 87/328 [00:43<01:53,  2.12 MiB/s]\u001b[A\n",
      "\n",
      "Extraction completed...: 0 file [00:43, ? file/s]\u001b[A\u001b[A\n",
      "Dl Completed...:   0%|                                  | 0/1 [00:43<?, ? url/s]\u001b[A\n",
      "Dl Size...:  27%|███████▌                    | 88/328 [00:43<01:59,  2.00 MiB/s]\u001b[A\n",
      "\n",
      "Extraction completed...: 0 file [00:43, ? file/s]\u001b[A\u001b[A\n",
      "Dl Completed...:   0%|                                  | 0/1 [00:44<?, ? url/s]\u001b[A\n",
      "Dl Size...:  27%|███████▌                    | 89/328 [00:44<01:50,  2.15 MiB/s]\u001b[A\n",
      "\n",
      "Extraction completed...: 0 file [00:44, ? file/s]\u001b[A\u001b[A\n",
      "Dl Completed...:   0%|                                  | 0/1 [00:44<?, ? url/s]\u001b[A\n",
      "Dl Size...:  27%|███████▋                    | 90/328 [00:44<01:56,  2.03 MiB/s]\u001b[A\n",
      "\n",
      "Extraction completed...: 0 file [00:44, ? file/s]\u001b[A\u001b[A\n",
      "Dl Completed...:   0%|                                  | 0/1 [00:45<?, ? url/s]\u001b[A\n",
      "Dl Size...:  28%|███████▊                    | 91/328 [00:45<01:49,  2.17 MiB/s]\u001b[A\n",
      "\n",
      "Extraction completed...: 0 file [00:45, ? file/s]\u001b[A\u001b[A\n",
      "Dl Completed...:   0%|                                  | 0/1 [00:45<?, ? url/s]\u001b[A\n",
      "Dl Size...:  28%|███████▊                    | 92/328 [00:45<01:49,  2.15 MiB/s]\u001b[A\n",
      "\n",
      "Extraction completed...: 0 file [00:45, ? file/s]\u001b[A\u001b[A\n",
      "Dl Completed...:   0%|                                  | 0/1 [00:46<?, ? url/s]\u001b[A\n",
      "Dl Size...:  28%|███████▉                    | 93/328 [00:46<01:49,  2.14 MiB/s]\u001b[A\n",
      "\n",
      "Extraction completed...: 0 file [00:46, ? file/s]\u001b[A\u001b[A\n",
      "Dl Completed...:   0%|                                  | 0/1 [00:46<?, ? url/s]\u001b[A\n",
      "Dl Size...:  29%|████████                    | 94/328 [00:46<01:49,  2.13 MiB/s]\u001b[A\n",
      "\n",
      "Extraction completed...: 0 file [00:46, ? file/s]\u001b[A\u001b[A\n",
      "Dl Completed...:   0%|                                  | 0/1 [00:46<?, ? url/s]\u001b[A\n",
      "Dl Size...:  29%|████████                    | 95/328 [00:46<01:49,  2.13 MiB/s]\u001b[A\n",
      "\n",
      "Extraction completed...: 0 file [00:46, ? file/s]\u001b[A\u001b[A\n",
      "Dl Completed...:   0%|                                  | 0/1 [00:47<?, ? url/s]\u001b[A\n",
      "Dl Size...:  29%|████████▏                   | 96/328 [00:47<01:49,  2.12 MiB/s]\u001b[A\n",
      "\n"
     ]
    },
    {
     "name": "stdout",
     "output_type": "stream",
     "text": [
      "Extraction completed...: 0 file [00:47, ? file/s]\u001b[A\u001b[A\n",
      "Dl Completed...:   0%|                                  | 0/1 [00:47<?, ? url/s]\u001b[A\n",
      "Dl Size...:  30%|████████▎                   | 97/328 [00:47<01:48,  2.12 MiB/s]\u001b[A\n",
      "\n",
      "Extraction completed...: 0 file [00:47, ? file/s]\u001b[A\u001b[A\n",
      "Dl Completed...:   0%|                                  | 0/1 [00:48<?, ? url/s]\u001b[A\n",
      "Dl Size...:  30%|████████▎                   | 98/328 [00:48<01:48,  2.12 MiB/s]\u001b[A\n",
      "\n",
      "Extraction completed...: 0 file [00:48, ? file/s]\u001b[A\u001b[A\n",
      "Dl Completed...:   0%|                                  | 0/1 [00:48<?, ? url/s]\u001b[A\n",
      "Dl Size...:  30%|████████▍                   | 99/328 [00:48<01:47,  2.12 MiB/s]\u001b[A\n",
      "\n",
      "Extraction completed...: 0 file [00:48, ? file/s]\u001b[A\u001b[A\n",
      "Dl Completed...:   0%|                                  | 0/1 [00:49<?, ? url/s]\u001b[A\n",
      "Dl Size...:  30%|████████▏                  | 100/328 [00:49<01:47,  2.12 MiB/s]\u001b[A\n",
      "\n",
      "Extraction completed...: 0 file [00:49, ? file/s]\u001b[A\u001b[A\n",
      "Dl Completed...:   0%|                                  | 0/1 [00:49<?, ? url/s]\u001b[A\n",
      "Dl Size...:  31%|████████▎                  | 101/328 [00:49<01:47,  2.12 MiB/s]\u001b[A\n",
      "\n",
      "Extraction completed...: 0 file [00:49, ? file/s]\u001b[A\u001b[A\n",
      "Dl Completed...:   0%|                                  | 0/1 [00:50<?, ? url/s]\u001b[A\n",
      "Dl Size...:  31%|████████▍                  | 102/328 [00:50<01:46,  2.12 MiB/s]\u001b[A\n",
      "\n",
      "Extraction completed...: 0 file [00:50, ? file/s]\u001b[A\u001b[A\n",
      "Dl Completed...:   0%|                                  | 0/1 [00:50<?, ? url/s]\u001b[A\n",
      "Dl Size...:  31%|████████▍                  | 103/328 [00:50<01:46,  2.11 MiB/s]\u001b[A\n",
      "\n",
      "Extraction completed...: 0 file [00:50, ? file/s]\u001b[A\u001b[A\n",
      "Dl Completed...:   0%|                                  | 0/1 [00:51<?, ? url/s]\u001b[A\n",
      "Dl Size...:  32%|████████▌                  | 104/328 [00:51<01:45,  2.12 MiB/s]\u001b[A\n",
      "\n",
      "Extraction completed...: 0 file [00:51, ? file/s]\u001b[A\u001b[A\n",
      "Dl Completed...:   0%|                                  | 0/1 [00:51<?, ? url/s]\u001b[A\n",
      "Dl Size...:  32%|████████▋                  | 105/328 [00:51<01:45,  2.11 MiB/s]\u001b[A\n",
      "\n",
      "Extraction completed...: 0 file [00:51, ? file/s]\u001b[A\u001b[A\n",
      "Dl Completed...:   0%|                                  | 0/1 [00:52<?, ? url/s]\u001b[A\n",
      "Dl Size...:  32%|████████▋                  | 106/328 [00:52<01:45,  2.11 MiB/s]\u001b[A\n",
      "\n",
      "Extraction completed...: 0 file [00:52, ? file/s]\u001b[A\u001b[A\n",
      "Dl Completed...:   0%|                                  | 0/1 [00:52<?, ? url/s]\u001b[A\n",
      "Dl Size...:  33%|████████▊                  | 107/328 [00:52<01:44,  2.12 MiB/s]\u001b[A\n",
      "\n",
      "Extraction completed...: 0 file [00:52, ? file/s]\u001b[A\u001b[A\n",
      "Dl Completed...:   0%|                                  | 0/1 [00:53<?, ? url/s]\u001b[A\n",
      "Dl Size...:  33%|████████▉                  | 108/328 [00:53<01:44,  2.11 MiB/s]\u001b[A\n",
      "\n",
      "Extraction completed...: 0 file [00:53, ? file/s]\u001b[A\u001b[A\n",
      "Dl Completed...:   0%|                                  | 0/1 [00:53<?, ? url/s]\u001b[A\n",
      "Dl Size...:  33%|████████▉                  | 109/328 [00:53<01:43,  2.11 MiB/s]\u001b[A\n",
      "\n",
      "Extraction completed...: 0 file [00:53, ? file/s]\u001b[A\u001b[A\n",
      "Dl Completed...:   0%|                                  | 0/1 [00:54<?, ? url/s]\u001b[A\n",
      "Dl Size...:  34%|█████████                  | 110/328 [00:54<01:43,  2.11 MiB/s]\u001b[A\n",
      "\n",
      "Extraction completed...: 0 file [00:54, ? file/s]\u001b[A\u001b[A\n",
      "Dl Completed...:   0%|                                  | 0/1 [00:54<?, ? url/s]\u001b[A\n",
      "Dl Size...:  34%|█████████▏                 | 111/328 [00:54<01:42,  2.12 MiB/s]\u001b[A\n",
      "\n",
      "Extraction completed...: 0 file [00:54, ? file/s]\u001b[A\u001b[A\n",
      "Dl Completed...:   0%|                                  | 0/1 [00:55<?, ? url/s]\u001b[A\n",
      "Dl Size...:  34%|█████████▏                 | 112/328 [00:55<01:42,  2.12 MiB/s]\u001b[A\n",
      "\n",
      "Extraction completed...: 0 file [00:55, ? file/s]\u001b[A\u001b[A\n",
      "Dl Completed...:   0%|                                  | 0/1 [00:55<?, ? url/s]\u001b[A\n",
      "Dl Size...:  34%|█████████▎                 | 113/328 [00:55<01:41,  2.11 MiB/s]\u001b[A\n",
      "\n",
      "Extraction completed...: 0 file [00:55, ? file/s]\u001b[A\u001b[A\n",
      "Dl Completed...:   0%|                                  | 0/1 [00:55<?, ? url/s]\u001b[A\n",
      "Dl Size...:  35%|█████████▍                 | 114/328 [00:55<01:41,  2.11 MiB/s]\u001b[A\n",
      "\n",
      "Extraction completed...: 0 file [00:55, ? file/s]\u001b[A\u001b[A\n",
      "Dl Completed...:   0%|                                  | 0/1 [00:56<?, ? url/s]\u001b[A\n",
      "Dl Size...:  35%|█████████▍                 | 115/328 [00:56<01:40,  2.12 MiB/s]\u001b[A\n",
      "\n",
      "Extraction completed...: 0 file [00:56, ? file/s]\u001b[A\u001b[A\n",
      "Dl Completed...:   0%|                                  | 0/1 [00:56<?, ? url/s]\u001b[A\n",
      "Dl Size...:  35%|█████████▌                 | 116/328 [00:56<01:40,  2.11 MiB/s]\u001b[A\n",
      "\n",
      "Extraction completed...: 0 file [00:56, ? file/s]\u001b[A\u001b[A\n",
      "Dl Completed...:   0%|                                  | 0/1 [00:57<?, ? url/s]\u001b[A\n",
      "Dl Size...:  36%|█████████▋                 | 117/328 [00:57<01:40,  2.10 MiB/s]\u001b[A\n",
      "\n",
      "Extraction completed...: 0 file [00:57, ? file/s]\u001b[A\u001b[A\n",
      "Dl Completed...:   0%|                                  | 0/1 [00:57<?, ? url/s]\u001b[A\n",
      "Dl Size...:  36%|█████████▋                 | 118/328 [00:57<01:38,  2.12 MiB/s]\u001b[A\n",
      "\n",
      "Extraction completed...: 0 file [00:57, ? file/s]\u001b[A\u001b[A\n",
      "Dl Completed...:   0%|                                  | 0/1 [00:58<?, ? url/s]\u001b[A\n",
      "Dl Size...:  36%|█████████▊                 | 119/328 [00:58<01:39,  2.09 MiB/s]\u001b[A\n",
      "\n",
      "Extraction completed...: 0 file [00:58, ? file/s]\u001b[A\u001b[A\n",
      "Dl Completed...:   0%|                                  | 0/1 [00:58<?, ? url/s]\u001b[A\n",
      "Dl Size...:  37%|█████████▉                 | 120/328 [00:58<01:37,  2.13 MiB/s]\u001b[A\n",
      "\n",
      "Extraction completed...: 0 file [00:58, ? file/s]\u001b[A\u001b[A\n",
      "Dl Completed...:   0%|                                  | 0/1 [00:59<?, ? url/s]\u001b[A\n",
      "Dl Size...:  37%|█████████▉                 | 121/328 [00:59<01:38,  2.11 MiB/s]\u001b[A\n",
      "\n",
      "Extraction completed...: 0 file [00:59, ? file/s]\u001b[A\u001b[A\n",
      "Dl Completed...:   0%|                                  | 0/1 [00:59<?, ? url/s]\u001b[A\n",
      "Dl Size...:  37%|██████████                 | 122/328 [00:59<01:36,  2.13 MiB/s]\u001b[A\n",
      "\n",
      "Extraction completed...: 0 file [00:59, ? file/s]\u001b[A\u001b[A\n",
      "Dl Completed...:   0%|                                  | 0/1 [01:00<?, ? url/s]\u001b[A\n",
      "Dl Size...:  38%|██████████▏                | 123/328 [01:00<01:36,  2.12 MiB/s]\u001b[A\n",
      "\n",
      "Extraction completed...: 0 file [01:00, ? file/s]\u001b[A\u001b[A\n",
      "Dl Completed...:   0%|                                  | 0/1 [01:00<?, ? url/s]\u001b[A\n",
      "Dl Size...:  38%|██████████▏                | 124/328 [01:00<01:36,  2.12 MiB/s]\u001b[A\n",
      "\n",
      "Extraction completed...: 0 file [01:00, ? file/s]\u001b[A\u001b[A\n",
      "Dl Completed...:   0%|                                  | 0/1 [01:01<?, ? url/s]\u001b[A\n",
      "Dl Size...:  38%|██████████▎                | 125/328 [01:01<01:35,  2.12 MiB/s]\u001b[A\n",
      "\n",
      "Extraction completed...: 0 file [01:01, ? file/s]\u001b[A\u001b[A\n",
      "Dl Completed...:   0%|                                  | 0/1 [01:01<?, ? url/s]\u001b[A\n",
      "Dl Size...:  38%|██████████▎                | 126/328 [01:01<01:35,  2.12 MiB/s]\u001b[A\n",
      "\n",
      "Extraction completed...: 0 file [01:01, ? file/s]\u001b[A\u001b[A\n",
      "Dl Completed...:   0%|                                  | 0/1 [01:02<?, ? url/s]\u001b[A\n",
      "Dl Size...:  39%|██████████▍                | 127/328 [01:02<01:34,  2.12 MiB/s]\u001b[A\n",
      "\n",
      "Extraction completed...: 0 file [01:02, ? file/s]\u001b[A\u001b[A\n",
      "Dl Completed...:   0%|                                  | 0/1 [01:02<?, ? url/s]\u001b[A\n",
      "Dl Size...:  39%|██████████▌                | 128/328 [01:02<01:34,  2.11 MiB/s]\u001b[A\n",
      "\n",
      "Extraction completed...: 0 file [01:02, ? file/s]\u001b[A\u001b[A\n",
      "Dl Completed...:   0%|                                  | 0/1 [01:03<?, ? url/s]\u001b[A\n",
      "Dl Size...:  39%|██████████▌                | 129/328 [01:03<01:34,  2.11 MiB/s]\u001b[A\n",
      "\n",
      "Extraction completed...: 0 file [01:03, ? file/s]\u001b[A\u001b[A\n",
      "Dl Completed...:   0%|                                  | 0/1 [01:03<?, ? url/s]\u001b[A\n",
      "Dl Size...:  40%|██████████▋                | 130/328 [01:03<01:33,  2.11 MiB/s]\u001b[A\n",
      "\n",
      "Extraction completed...: 0 file [01:03, ? file/s]\u001b[A\u001b[A\n",
      "Dl Completed...:   0%|                                  | 0/1 [01:04<?, ? url/s]\u001b[A\n",
      "Dl Size...:  40%|██████████▊                | 131/328 [01:04<01:33,  2.11 MiB/s]\u001b[A\n",
      "\n",
      "Extraction completed...: 0 file [01:04, ? file/s]\u001b[A\u001b[A\n",
      "Dl Completed...:   0%|                                  | 0/1 [01:04<?, ? url/s]\u001b[A\n",
      "Dl Size...:  40%|██████████▊                | 132/328 [01:04<01:32,  2.12 MiB/s]\u001b[A\n",
      "\n",
      "Extraction completed...: 0 file [01:04, ? file/s]\u001b[A\u001b[A\n",
      "Dl Completed...:   0%|                                  | 0/1 [01:04<?, ? url/s]\u001b[A\n",
      "Dl Size...:  41%|██████████▉                | 133/328 [01:04<01:32,  2.12 MiB/s]\u001b[A\n",
      "\n"
     ]
    },
    {
     "name": "stdout",
     "output_type": "stream",
     "text": [
      "Extraction completed...: 0 file [01:04, ? file/s]\u001b[A\u001b[A\n",
      "Dl Completed...:   0%|                                  | 0/1 [01:05<?, ? url/s]\u001b[A\n",
      "Dl Size...:  41%|███████████                | 134/328 [01:05<01:31,  2.12 MiB/s]\u001b[A\n",
      "\n",
      "Extraction completed...: 0 file [01:05, ? file/s]\u001b[A\u001b[A\n",
      "Dl Completed...:   0%|                                  | 0/1 [01:05<?, ? url/s]\u001b[A\n",
      "Dl Size...:  41%|███████████                | 135/328 [01:05<01:31,  2.12 MiB/s]\u001b[A\n",
      "\n",
      "Extraction completed...: 0 file [01:05, ? file/s]\u001b[A\u001b[A\n",
      "Dl Completed...:   0%|                                  | 0/1 [01:06<?, ? url/s]\u001b[A\n",
      "Dl Size...:  41%|███████████▏               | 136/328 [01:06<01:30,  2.11 MiB/s]\u001b[A\n",
      "\n",
      "Extraction completed...: 0 file [01:06, ? file/s]\u001b[A\u001b[A\n",
      "Dl Completed...:   0%|                                  | 0/1 [01:06<?, ? url/s]\u001b[A\n",
      "Dl Size...:  42%|███████████▎               | 137/328 [01:06<01:30,  2.11 MiB/s]\u001b[A\n",
      "\n",
      "Extraction completed...: 0 file [01:06, ? file/s]\u001b[A\u001b[A\n",
      "Dl Completed...:   0%|                                  | 0/1 [01:07<?, ? url/s]\u001b[A\n",
      "Dl Size...:  42%|███████████▎               | 138/328 [01:07<01:29,  2.12 MiB/s]\u001b[A\n",
      "\n",
      "Extraction completed...: 0 file [01:07, ? file/s]\u001b[A\u001b[A\n",
      "Dl Completed...:   0%|                                  | 0/1 [01:07<?, ? url/s]\u001b[A\n",
      "Dl Size...:  42%|███████████▍               | 139/328 [01:07<01:29,  2.11 MiB/s]\u001b[A\n",
      "\n",
      "Extraction completed...: 0 file [01:07, ? file/s]\u001b[A\u001b[A\n",
      "Dl Completed...:   0%|                                  | 0/1 [01:08<?, ? url/s]\u001b[A\n",
      "Dl Size...:  43%|███████████▌               | 140/328 [01:08<01:28,  2.11 MiB/s]\u001b[A\n",
      "\n",
      "Extraction completed...: 0 file [01:08, ? file/s]\u001b[A\u001b[A\n",
      "Dl Completed...:   0%|                                  | 0/1 [01:08<?, ? url/s]\u001b[A\n",
      "Dl Size...:  43%|███████████▌               | 141/328 [01:08<01:28,  2.12 MiB/s]\u001b[A\n",
      "\n",
      "Extraction completed...: 0 file [01:08, ? file/s]\u001b[A\u001b[A\n",
      "Dl Completed...:   0%|                                  | 0/1 [01:09<?, ? url/s]\u001b[A\n",
      "Dl Size...:  43%|███████████▋               | 142/328 [01:09<01:27,  2.12 MiB/s]\u001b[A\n",
      "\n",
      "Extraction completed...: 0 file [01:09, ? file/s]\u001b[A\u001b[A\n",
      "Dl Completed...:   0%|                                  | 0/1 [01:09<?, ? url/s]\u001b[A\n",
      "Dl Size...:  44%|███████████▊               | 143/328 [01:09<01:27,  2.12 MiB/s]\u001b[A\n",
      "\n",
      "Extraction completed...: 0 file [01:09, ? file/s]\u001b[A\u001b[A\n",
      "Dl Completed...:   0%|                                  | 0/1 [01:10<?, ? url/s]\u001b[A\n",
      "Dl Size...:  44%|███████████▊               | 144/328 [01:10<01:26,  2.12 MiB/s]\u001b[A\n",
      "\n",
      "Extraction completed...: 0 file [01:10, ? file/s]\u001b[A\u001b[A\n",
      "Dl Completed...:   0%|                                  | 0/1 [01:10<?, ? url/s]\u001b[A\n",
      "Dl Size...:  44%|███████████▉               | 145/328 [01:10<01:26,  2.12 MiB/s]\u001b[A\n",
      "\n",
      "Extraction completed...: 0 file [01:10, ? file/s]\u001b[A\u001b[A\n",
      "Dl Completed...:   0%|                                  | 0/1 [01:11<?, ? url/s]\u001b[A\n",
      "Dl Size...:  45%|████████████               | 146/328 [01:11<01:25,  2.12 MiB/s]\u001b[A\n",
      "\n",
      "Extraction completed...: 0 file [01:11, ? file/s]\u001b[A\u001b[A\n",
      "Dl Completed...:   0%|                                  | 0/1 [01:11<?, ? url/s]\u001b[A\n",
      "Dl Size...:  45%|████████████               | 147/328 [01:11<01:25,  2.11 MiB/s]\u001b[A\n",
      "\n",
      "Extraction completed...: 0 file [01:11, ? file/s]\u001b[A\u001b[A\n",
      "Dl Completed...:   0%|                                  | 0/1 [01:12<?, ? url/s]\u001b[A\n",
      "Dl Size...:  45%|████████████▏              | 148/328 [01:12<01:25,  2.12 MiB/s]\u001b[A\n",
      "\n",
      "Extraction completed...: 0 file [01:12, ? file/s]\u001b[A\u001b[A\n",
      "Dl Completed...:   0%|                                  | 0/1 [01:12<?, ? url/s]\u001b[A\n",
      "Dl Size...:  45%|████████████▎              | 149/328 [01:12<01:24,  2.11 MiB/s]\u001b[A\n",
      "\n",
      "Extraction completed...: 0 file [01:12, ? file/s]\u001b[A\u001b[A\n",
      "Dl Completed...:   0%|                                  | 0/1 [01:12<?, ? url/s]\u001b[A\n",
      "Dl Size...:  46%|████████████▎              | 150/328 [01:12<01:24,  2.11 MiB/s]\u001b[A\n",
      "\n",
      "Extraction completed...: 0 file [01:12, ? file/s]\u001b[A\u001b[A\n",
      "Dl Completed...:   0%|                                  | 0/1 [01:13<?, ? url/s]\u001b[A\n",
      "Dl Size...:  46%|████████████▍              | 151/328 [01:13<01:23,  2.11 MiB/s]\u001b[A\n",
      "\n",
      "Extraction completed...: 0 file [01:13, ? file/s]\u001b[A\u001b[A\n",
      "Dl Completed...:   0%|                                  | 0/1 [01:13<?, ? url/s]\u001b[A\n",
      "Dl Size...:  46%|████████████▌              | 152/328 [01:13<01:23,  2.11 MiB/s]\u001b[A\n",
      "\n",
      "Extraction completed...: 0 file [01:13, ? file/s]\u001b[A\u001b[A\n",
      "Dl Completed...:   0%|                                  | 0/1 [01:14<?, ? url/s]\u001b[A\n",
      "Dl Size...:  47%|████████████▌              | 153/328 [01:14<01:22,  2.11 MiB/s]\u001b[A\n",
      "\n",
      "Extraction completed...: 0 file [01:14, ? file/s]\u001b[A\u001b[A\n",
      "Dl Completed...:   0%|                                  | 0/1 [01:14<?, ? url/s]\u001b[A\n",
      "Dl Size...:  47%|████████████▋              | 154/328 [01:14<01:22,  2.11 MiB/s]\u001b[A\n",
      "\n",
      "Extraction completed...: 0 file [01:14, ? file/s]\u001b[A\u001b[A\n",
      "Dl Completed...:   0%|                                  | 0/1 [01:15<?, ? url/s]\u001b[A\n",
      "Dl Size...:  47%|████████████▊              | 155/328 [01:15<01:21,  2.12 MiB/s]\u001b[A\n",
      "\n",
      "Extraction completed...: 0 file [01:15, ? file/s]\u001b[A\u001b[A\n",
      "Dl Completed...:   0%|                                  | 0/1 [01:15<?, ? url/s]\u001b[A\n",
      "Dl Size...:  48%|████████████▊              | 156/328 [01:15<01:21,  2.12 MiB/s]\u001b[A\n",
      "\n",
      "Extraction completed...: 0 file [01:15, ? file/s]\u001b[A\u001b[A\n",
      "Dl Completed...:   0%|                                  | 0/1 [01:16<?, ? url/s]\u001b[A\n",
      "Dl Size...:  48%|████████████▉              | 157/328 [01:16<01:20,  2.12 MiB/s]\u001b[A\n",
      "\n",
      "Extraction completed...: 0 file [01:16, ? file/s]\u001b[A\u001b[A\n",
      "Dl Completed...:   0%|                                  | 0/1 [01:16<?, ? url/s]\u001b[A\n",
      "Dl Size...:  48%|█████████████              | 158/328 [01:16<01:20,  2.12 MiB/s]\u001b[A\n",
      "\n",
      "Extraction completed...: 0 file [01:16, ? file/s]\u001b[A\u001b[A\n",
      "Dl Completed...:   0%|                                  | 0/1 [01:17<?, ? url/s]\u001b[A\n",
      "Dl Size...:  48%|█████████████              | 159/328 [01:17<01:19,  2.12 MiB/s]\u001b[A\n",
      "\n",
      "Extraction completed...: 0 file [01:17, ? file/s]\u001b[A\u001b[A\n",
      "Dl Completed...:   0%|                                  | 0/1 [01:17<?, ? url/s]\u001b[A\n",
      "Dl Size...:  49%|█████████████▏             | 160/328 [01:17<01:19,  2.12 MiB/s]\u001b[A\n",
      "\n",
      "Extraction completed...: 0 file [01:17, ? file/s]\u001b[A\u001b[A\n",
      "Dl Completed...:   0%|                                  | 0/1 [01:18<?, ? url/s]\u001b[A\n",
      "Dl Size...:  49%|█████████████▎             | 161/328 [01:18<01:19,  2.11 MiB/s]\u001b[A\n",
      "\n",
      "Extraction completed...: 0 file [01:18, ? file/s]\u001b[A\u001b[A\n",
      "Dl Completed...:   0%|                                  | 0/1 [01:18<?, ? url/s]\u001b[A\n",
      "Dl Size...:  49%|█████████████▎             | 162/328 [01:18<01:18,  2.12 MiB/s]\u001b[A\n",
      "\n",
      "Extraction completed...: 0 file [01:18, ? file/s]\u001b[A\u001b[A\n",
      "Dl Completed...:   0%|                                  | 0/1 [01:19<?, ? url/s]\u001b[A\n",
      "Dl Size...:  50%|█████████████▍             | 163/328 [01:19<01:17,  2.12 MiB/s]\u001b[A\n",
      "\n",
      "Extraction completed...: 0 file [01:19, ? file/s]\u001b[A\u001b[A\n",
      "Dl Completed...:   0%|                                  | 0/1 [01:19<?, ? url/s]\u001b[A\n",
      "Dl Size...:  50%|█████████████▌             | 164/328 [01:19<01:17,  2.11 MiB/s]\u001b[A\n",
      "\n",
      "Extraction completed...: 0 file [01:19, ? file/s]\u001b[A\u001b[A\n",
      "Dl Completed...:   0%|                                  | 0/1 [01:20<?, ? url/s]\u001b[A\n",
      "Dl Size...:  50%|█████████████▌             | 165/328 [01:20<01:17,  2.11 MiB/s]\u001b[A\n",
      "\n",
      "Extraction completed...: 0 file [01:20, ? file/s]\u001b[A\u001b[A\n",
      "Dl Completed...:   0%|                                  | 0/1 [01:20<?, ? url/s]\u001b[A\n",
      "Dl Size...:  51%|█████████████▋             | 166/328 [01:20<01:16,  2.11 MiB/s]\u001b[A\n",
      "\n",
      "Extraction completed...: 0 file [01:20, ? file/s]\u001b[A\u001b[A\n",
      "Dl Completed...:   0%|                                  | 0/1 [01:21<?, ? url/s]\u001b[A\n",
      "Dl Size...:  51%|█████████████▋             | 167/328 [01:21<01:16,  2.11 MiB/s]\u001b[A\n",
      "\n",
      "Extraction completed...: 0 file [01:21, ? file/s]\u001b[A\u001b[A\n",
      "Dl Completed...:   0%|                                  | 0/1 [01:21<?, ? url/s]\u001b[A\n",
      "Dl Size...:  51%|█████████████▊             | 168/328 [01:21<01:15,  2.12 MiB/s]\u001b[A\n",
      "\n",
      "Extraction completed...: 0 file [01:21, ? file/s]\u001b[A\u001b[A\n",
      "Dl Completed...:   0%|                                  | 0/1 [01:21<?, ? url/s]\u001b[A\n",
      "Dl Size...:  52%|█████████████▉             | 169/328 [01:21<01:15,  2.11 MiB/s]\u001b[A\n",
      "\n",
      "Extraction completed...: 0 file [01:21, ? file/s]\u001b[A\u001b[A\n",
      "Dl Completed...:   0%|                                  | 0/1 [01:22<?, ? url/s]\u001b[A\n",
      "Dl Size...:  52%|█████████████▉             | 170/328 [01:22<01:14,  2.11 MiB/s]\u001b[A\n",
      "\n"
     ]
    },
    {
     "name": "stdout",
     "output_type": "stream",
     "text": [
      "Extraction completed...: 0 file [01:22, ? file/s]\u001b[A\u001b[A\n",
      "Dl Completed...:   0%|                                  | 0/1 [01:22<?, ? url/s]\u001b[A\n",
      "Dl Size...:  52%|██████████████             | 171/328 [01:22<01:14,  2.12 MiB/s]\u001b[A\n",
      "\n",
      "Extraction completed...: 0 file [01:22, ? file/s]\u001b[A\u001b[A\n",
      "Dl Completed...:   0%|                                  | 0/1 [01:23<?, ? url/s]\u001b[A\n",
      "Dl Size...:  52%|██████████████▏            | 172/328 [01:23<01:13,  2.12 MiB/s]\u001b[A\n",
      "\n",
      "Extraction completed...: 0 file [01:23, ? file/s]\u001b[A\u001b[A\n",
      "Dl Completed...:   0%|                                  | 0/1 [01:23<?, ? url/s]\u001b[A\n",
      "Dl Size...:  53%|██████████████▏            | 173/328 [01:23<01:13,  2.12 MiB/s]\u001b[A\n",
      "\n",
      "Extraction completed...: 0 file [01:23, ? file/s]\u001b[A\u001b[A\n",
      "Dl Completed...:   0%|                                  | 0/1 [01:24<?, ? url/s]\u001b[A\n",
      "Dl Size...:  53%|██████████████▎            | 174/328 [01:24<01:12,  2.12 MiB/s]\u001b[A\n",
      "\n",
      "Extraction completed...: 0 file [01:24, ? file/s]\u001b[A\u001b[A\n",
      "Dl Completed...:   0%|                                  | 0/1 [01:24<?, ? url/s]\u001b[A\n",
      "Dl Size...:  53%|██████████████▍            | 175/328 [01:24<01:12,  2.12 MiB/s]\u001b[A\n",
      "\n",
      "Extraction completed...: 0 file [01:24, ? file/s]\u001b[A\u001b[A\n",
      "Dl Completed...:   0%|                                  | 0/1 [01:25<?, ? url/s]\u001b[A\n",
      "Dl Size...:  54%|██████████████▍            | 176/328 [01:25<01:11,  2.12 MiB/s]\u001b[A\n",
      "\n",
      "Extraction completed...: 0 file [01:25, ? file/s]\u001b[A\u001b[A\n",
      "Dl Completed...:   0%|                                  | 0/1 [01:25<?, ? url/s]\u001b[A\n",
      "Dl Size...:  54%|██████████████▌            | 177/328 [01:25<01:11,  2.12 MiB/s]\u001b[A\n",
      "\n",
      "Extraction completed...: 0 file [01:25, ? file/s]\u001b[A\u001b[A\n",
      "Dl Completed...:   0%|                                  | 0/1 [01:26<?, ? url/s]\u001b[A\n",
      "Dl Size...:  54%|██████████████▋            | 178/328 [01:26<01:10,  2.11 MiB/s]\u001b[A\n",
      "\n",
      "Extraction completed...: 0 file [01:26, ? file/s]\u001b[A\u001b[A\n",
      "Dl Completed...:   0%|                                  | 0/1 [01:26<?, ? url/s]\u001b[A\n",
      "Dl Size...:  55%|██████████████▋            | 179/328 [01:26<01:12,  2.06 MiB/s]\u001b[A\n",
      "\n",
      "Extraction completed...: 0 file [01:26, ? file/s]\u001b[A\u001b[A\n",
      "Dl Completed...:   0%|                                  | 0/1 [01:27<?, ? url/s]\u001b[A\n",
      "Dl Size...:  55%|██████████████▊            | 180/328 [01:27<01:09,  2.13 MiB/s]\u001b[A\n",
      "\n",
      "Extraction completed...: 0 file [01:27, ? file/s]\u001b[A\u001b[A\n",
      "Dl Completed...:   0%|                                  | 0/1 [01:27<?, ? url/s]\u001b[A\n",
      "Dl Size...:  55%|██████████████▉            | 181/328 [01:27<01:11,  2.05 MiB/s]\u001b[A\n",
      "\n",
      "Extraction completed...: 0 file [01:27, ? file/s]\u001b[A\u001b[A"
     ]
    }
   ],
   "source": [
    "!python -m tensorflow_datasets.scripts.download_and_prepare --register_checksums=True --datasets=oxford_flowers102"
   ]
  },
  {
   "cell_type": "code",
   "execution_count": 8,
   "metadata": {},
   "outputs": [
    {
     "ename": "AttributeError",
     "evalue": "'Split' object has no attribute 'subsplit'",
     "output_type": "error",
     "traceback": [
      "\u001b[0;31m---------------------------------------------------------------------------\u001b[0m",
      "\u001b[0;31mAttributeError\u001b[0m                            Traceback (most recent call last)",
      "\u001b[0;32m<ipython-input-8-b2ea4e49b300>\u001b[0m in \u001b[0;36m<module>\u001b[0;34m\u001b[0m\n\u001b[1;32m      1\u001b[0m \u001b[0;31m# test_split, valid_split, train_split = tfds.Split.Train([10, 15, 75])\u001b[0m\u001b[0;34m\u001b[0m\u001b[0;34m\u001b[0m\u001b[0;34m\u001b[0m\u001b[0m\n\u001b[0;32m----> 2\u001b[0;31m \u001b[0mfirst_67_percent\u001b[0m \u001b[0;34m=\u001b[0m \u001b[0mtfds\u001b[0m\u001b[0;34m.\u001b[0m\u001b[0mSplit\u001b[0m\u001b[0;34m.\u001b[0m\u001b[0mTRAIN\u001b[0m\u001b[0;34m.\u001b[0m\u001b[0msubsplit\u001b[0m\u001b[0;34m(\u001b[0m\u001b[0mtfds\u001b[0m\u001b[0;34m.\u001b[0m\u001b[0mpercent\u001b[0m\u001b[0;34m[\u001b[0m\u001b[0;34m:\u001b[0m\u001b[0;36m67\u001b[0m\u001b[0;34m]\u001b[0m\u001b[0;34m)\u001b[0m\u001b[0;34m\u001b[0m\u001b[0;34m\u001b[0m\u001b[0m\n\u001b[0m\u001b[1;32m      3\u001b[0m \u001b[0;31m# test_set = tfds.load(\"oxford_flowers102\", split=test_split, as_supervised=True)\u001b[0m\u001b[0;34m\u001b[0m\u001b[0;34m\u001b[0m\u001b[0;34m\u001b[0m\u001b[0m\n",
      "\u001b[0;31mAttributeError\u001b[0m: 'Split' object has no attribute 'subsplit'"
     ]
    }
   ],
   "source": [
    "# test_split, valid_split, train_split = tfds.Split.Train([10, 15, 75])\n",
    "first_67_percent = tfds.Split.TRAIN.subsplit(tfds.percent[:67])\n",
    "# test_set = tfds.load(\"oxford_flowers102\", split=test_split, as_supervised=True)"
   ]
  },
  {
   "cell_type": "code",
   "execution_count": 6,
   "metadata": {
    "colab": {
     "base_uri": "https://localhost:8080/",
     "height": 1000
    },
    "colab_type": "code",
    "id": "vXISRjfdrrQ6",
    "outputId": "6edf59b2-b468-4c4a-cff4-7cc7cfcc3c2d"
   },
   "outputs": [
    {
     "name": "stderr",
     "output_type": "stream",
     "text": [
      "WARNING:absl:Found a different version of the requested dataset:\n",
      "/Users/akanshasinghlnu/tensorflow_datasets/oxford_flowers102/2.1.1\n",
      "Using /Users/akanshasinghlnu/tensorflow_datasets/oxford_flowers102/2.1.0 instead.\n"
     ]
    },
    {
     "name": "stdout",
     "output_type": "stream",
     "text": [
      "\u001b[1mDownloading and preparing dataset oxford_flowers102/2.1.0 (download: 336.76 MiB, generated: 331.34 MiB, total: 668.11 MiB) to /Users/akanshasinghlnu/tensorflow_datasets/oxford_flowers102/2.1.0...\u001b[0m\n"
     ]
    },
    {
     "ename": "NonMatchingChecksumError",
     "evalue": "Artifact https://www.robots.ox.ac.uk/~vgg/data/flowers/102/102flowers.tgz, downloaded to /Users/akanshasinghlnu/tensorflow_datasets/downloads/robots.ox.ac.uk_vgg_flowers_102_102flowersoWedSp98maBn1wypsDib6T-q2NVbO40fwvTflmPmQpY.tgz.tmp.698515780ccc49a4b3c890a51063639a/102flowers.tgz, has wrong checksum. This might indicate:\n * The website may be down (e.g. returned a 503 status code). Please check the url.\n * For Google Drive URLs, try again later as Drive sometimes rejects downloads when too many people access the same URL. See https://github.com/tensorflow/datasets/issues/1482\n * The original datasets files may have been updated. In this case the TFDS dataset builder should be updated to use the new files and checksums. Sorry about that. Please open an issue or send us a PR with a fix.\n * If you're adding a new dataset, don't forget to register the checksums as explained in: https://www.tensorflow.org/datasets/add_dataset#2_run_download_and_prepare_locally\n",
     "output_type": "error",
     "traceback": [
      "\u001b[0;31m---------------------------------------------------------------------------\u001b[0m",
      "\u001b[0;31mNonMatchingChecksumError\u001b[0m                  Traceback (most recent call last)",
      "\u001b[0;32m<ipython-input-6-acd08abb13a3>\u001b[0m in \u001b[0;36m<module>\u001b[0;34m\u001b[0m\n\u001b[1;32m      5\u001b[0m \u001b[0;31m# splits = tfds.Split.ALL.subsplit([train_split, test_val_split, test_val_split])\u001b[0m\u001b[0;34m\u001b[0m\u001b[0;34m\u001b[0m\u001b[0;34m\u001b[0m\u001b[0m\n\u001b[1;32m      6\u001b[0m \u001b[0;31m# splits = tfds.Split.TRAIN.subsplit([train_split, test_val_split, test_val_split])\u001b[0m\u001b[0;34m\u001b[0m\u001b[0;34m\u001b[0m\u001b[0;34m\u001b[0m\u001b[0m\n\u001b[0;32m----> 7\u001b[0;31m \u001b[0mdataset\u001b[0m\u001b[0;34m,\u001b[0m \u001b[0mdataset_info\u001b[0m \u001b[0;34m=\u001b[0m \u001b[0mtfds\u001b[0m\u001b[0;34m.\u001b[0m\u001b[0mload\u001b[0m\u001b[0;34m(\u001b[0m\u001b[0;34m'oxford_flowers102'\u001b[0m\u001b[0;34m,\u001b[0m \u001b[0mdata_dir\u001b[0m\u001b[0;34m=\u001b[0m\u001b[0;34m'/Users/akanshasinghlnu/tensorflow_datasets'\u001b[0m\u001b[0;34m,\u001b[0m \u001b[0mas_supervised\u001b[0m\u001b[0;34m=\u001b[0m\u001b[0;32mTrue\u001b[0m\u001b[0;34m,\u001b[0m \u001b[0mwith_info\u001b[0m\u001b[0;34m=\u001b[0m\u001b[0;32mTrue\u001b[0m\u001b[0;34m)\u001b[0m\u001b[0;34m\u001b[0m\u001b[0;34m\u001b[0m\u001b[0m\n\u001b[0m\u001b[1;32m      8\u001b[0m \u001b[0;34m\u001b[0m\u001b[0m\n\u001b[1;32m      9\u001b[0m \u001b[0;34m\u001b[0m\u001b[0m\n",
      "\u001b[0;32m~/anaconda3/lib/python3.7/site-packages/tensorflow_datasets/core/api_utils.py\u001b[0m in \u001b[0;36mdisallow_positional_args_dec\u001b[0;34m(fn, instance, args, kwargs)\u001b[0m\n\u001b[1;32m     67\u001b[0m     \u001b[0m_check_no_positional\u001b[0m\u001b[0;34m(\u001b[0m\u001b[0mfn\u001b[0m\u001b[0;34m,\u001b[0m \u001b[0margs\u001b[0m\u001b[0;34m,\u001b[0m \u001b[0mismethod\u001b[0m\u001b[0;34m,\u001b[0m \u001b[0mallowed\u001b[0m\u001b[0;34m=\u001b[0m\u001b[0mallowed\u001b[0m\u001b[0;34m)\u001b[0m\u001b[0;34m\u001b[0m\u001b[0;34m\u001b[0m\u001b[0m\n\u001b[1;32m     68\u001b[0m     \u001b[0m_check_required\u001b[0m\u001b[0;34m(\u001b[0m\u001b[0mfn\u001b[0m\u001b[0;34m,\u001b[0m \u001b[0mkwargs\u001b[0m\u001b[0;34m)\u001b[0m\u001b[0;34m\u001b[0m\u001b[0;34m\u001b[0m\u001b[0m\n\u001b[0;32m---> 69\u001b[0;31m     \u001b[0;32mreturn\u001b[0m \u001b[0mfn\u001b[0m\u001b[0;34m(\u001b[0m\u001b[0;34m*\u001b[0m\u001b[0margs\u001b[0m\u001b[0;34m,\u001b[0m \u001b[0;34m**\u001b[0m\u001b[0mkwargs\u001b[0m\u001b[0;34m)\u001b[0m\u001b[0;34m\u001b[0m\u001b[0;34m\u001b[0m\u001b[0m\n\u001b[0m\u001b[1;32m     70\u001b[0m \u001b[0;34m\u001b[0m\u001b[0m\n\u001b[1;32m     71\u001b[0m   \u001b[0;32mreturn\u001b[0m \u001b[0mdisallow_positional_args_dec\u001b[0m\u001b[0;34m(\u001b[0m\u001b[0mwrapped\u001b[0m\u001b[0;34m)\u001b[0m  \u001b[0;31m# pylint: disable=no-value-for-parameter\u001b[0m\u001b[0;34m\u001b[0m\u001b[0;34m\u001b[0m\u001b[0m\n",
      "\u001b[0;32m~/anaconda3/lib/python3.7/site-packages/tensorflow_datasets/core/registered.py\u001b[0m in \u001b[0;36mload\u001b[0;34m(name, split, data_dir, batch_size, shuffle_files, download, as_supervised, decoders, read_config, with_info, builder_kwargs, download_and_prepare_kwargs, as_dataset_kwargs, try_gcs)\u001b[0m\n\u001b[1;32m    367\u001b[0m   \u001b[0;32mif\u001b[0m \u001b[0mdownload\u001b[0m\u001b[0;34m:\u001b[0m\u001b[0;34m\u001b[0m\u001b[0;34m\u001b[0m\u001b[0m\n\u001b[1;32m    368\u001b[0m     \u001b[0mdownload_and_prepare_kwargs\u001b[0m \u001b[0;34m=\u001b[0m \u001b[0mdownload_and_prepare_kwargs\u001b[0m \u001b[0;32mor\u001b[0m \u001b[0;34m{\u001b[0m\u001b[0;34m}\u001b[0m\u001b[0;34m\u001b[0m\u001b[0;34m\u001b[0m\u001b[0m\n\u001b[0;32m--> 369\u001b[0;31m     \u001b[0mdbuilder\u001b[0m\u001b[0;34m.\u001b[0m\u001b[0mdownload_and_prepare\u001b[0m\u001b[0;34m(\u001b[0m\u001b[0;34m**\u001b[0m\u001b[0mdownload_and_prepare_kwargs\u001b[0m\u001b[0;34m)\u001b[0m\u001b[0;34m\u001b[0m\u001b[0;34m\u001b[0m\u001b[0m\n\u001b[0m\u001b[1;32m    370\u001b[0m \u001b[0;34m\u001b[0m\u001b[0m\n\u001b[1;32m    371\u001b[0m   \u001b[0;32mif\u001b[0m \u001b[0mas_dataset_kwargs\u001b[0m \u001b[0;32mis\u001b[0m \u001b[0;32mNone\u001b[0m\u001b[0;34m:\u001b[0m\u001b[0;34m\u001b[0m\u001b[0;34m\u001b[0m\u001b[0m\n",
      "\u001b[0;32m~/anaconda3/lib/python3.7/site-packages/tensorflow_datasets/core/api_utils.py\u001b[0m in \u001b[0;36mdisallow_positional_args_dec\u001b[0;34m(fn, instance, args, kwargs)\u001b[0m\n\u001b[1;32m     67\u001b[0m     \u001b[0m_check_no_positional\u001b[0m\u001b[0;34m(\u001b[0m\u001b[0mfn\u001b[0m\u001b[0;34m,\u001b[0m \u001b[0margs\u001b[0m\u001b[0;34m,\u001b[0m \u001b[0mismethod\u001b[0m\u001b[0;34m,\u001b[0m \u001b[0mallowed\u001b[0m\u001b[0;34m=\u001b[0m\u001b[0mallowed\u001b[0m\u001b[0;34m)\u001b[0m\u001b[0;34m\u001b[0m\u001b[0;34m\u001b[0m\u001b[0m\n\u001b[1;32m     68\u001b[0m     \u001b[0m_check_required\u001b[0m\u001b[0;34m(\u001b[0m\u001b[0mfn\u001b[0m\u001b[0;34m,\u001b[0m \u001b[0mkwargs\u001b[0m\u001b[0;34m)\u001b[0m\u001b[0;34m\u001b[0m\u001b[0;34m\u001b[0m\u001b[0m\n\u001b[0;32m---> 69\u001b[0;31m     \u001b[0;32mreturn\u001b[0m \u001b[0mfn\u001b[0m\u001b[0;34m(\u001b[0m\u001b[0;34m*\u001b[0m\u001b[0margs\u001b[0m\u001b[0;34m,\u001b[0m \u001b[0;34m**\u001b[0m\u001b[0mkwargs\u001b[0m\u001b[0;34m)\u001b[0m\u001b[0;34m\u001b[0m\u001b[0;34m\u001b[0m\u001b[0m\n\u001b[0m\u001b[1;32m     70\u001b[0m \u001b[0;34m\u001b[0m\u001b[0m\n\u001b[1;32m     71\u001b[0m   \u001b[0;32mreturn\u001b[0m \u001b[0mdisallow_positional_args_dec\u001b[0m\u001b[0;34m(\u001b[0m\u001b[0mwrapped\u001b[0m\u001b[0;34m)\u001b[0m  \u001b[0;31m# pylint: disable=no-value-for-parameter\u001b[0m\u001b[0;34m\u001b[0m\u001b[0;34m\u001b[0m\u001b[0m\n",
      "\u001b[0;32m~/anaconda3/lib/python3.7/site-packages/tensorflow_datasets/core/dataset_builder.py\u001b[0m in \u001b[0;36mdownload_and_prepare\u001b[0;34m(self, download_dir, download_config)\u001b[0m\n\u001b[1;32m    361\u001b[0m           self._download_and_prepare(\n\u001b[1;32m    362\u001b[0m               \u001b[0mdl_manager\u001b[0m\u001b[0;34m=\u001b[0m\u001b[0mdl_manager\u001b[0m\u001b[0;34m,\u001b[0m\u001b[0;34m\u001b[0m\u001b[0;34m\u001b[0m\u001b[0m\n\u001b[0;32m--> 363\u001b[0;31m               download_config=download_config)\n\u001b[0m\u001b[1;32m    364\u001b[0m \u001b[0;34m\u001b[0m\u001b[0m\n\u001b[1;32m    365\u001b[0m           \u001b[0;31m# NOTE: If modifying the lines below to put additional information in\u001b[0m\u001b[0;34m\u001b[0m\u001b[0;34m\u001b[0m\u001b[0;34m\u001b[0m\u001b[0m\n",
      "\u001b[0;32m~/anaconda3/lib/python3.7/site-packages/tensorflow_datasets/core/dataset_builder.py\u001b[0m in \u001b[0;36m_download_and_prepare\u001b[0;34m(self, dl_manager, download_config)\u001b[0m\n\u001b[1;32m    994\u001b[0m     super(GeneratorBasedBuilder, self)._download_and_prepare(\n\u001b[1;32m    995\u001b[0m         \u001b[0mdl_manager\u001b[0m\u001b[0;34m=\u001b[0m\u001b[0mdl_manager\u001b[0m\u001b[0;34m,\u001b[0m\u001b[0;34m\u001b[0m\u001b[0;34m\u001b[0m\u001b[0m\n\u001b[0;32m--> 996\u001b[0;31m         \u001b[0mmax_examples_per_split\u001b[0m\u001b[0;34m=\u001b[0m\u001b[0mdownload_config\u001b[0m\u001b[0;34m.\u001b[0m\u001b[0mmax_examples_per_split\u001b[0m\u001b[0;34m,\u001b[0m\u001b[0;34m\u001b[0m\u001b[0;34m\u001b[0m\u001b[0m\n\u001b[0m\u001b[1;32m    997\u001b[0m     )\n\u001b[1;32m    998\u001b[0m \u001b[0;34m\u001b[0m\u001b[0m\n",
      "\u001b[0;32m~/anaconda3/lib/python3.7/site-packages/tensorflow_datasets/core/dataset_builder.py\u001b[0m in \u001b[0;36m_download_and_prepare\u001b[0;34m(self, dl_manager, **prepare_split_kwargs)\u001b[0m\n\u001b[1;32m    914\u001b[0m         prepare_split_kwargs)\n\u001b[1;32m    915\u001b[0m     for split_generator in self._split_generators(\n\u001b[0;32m--> 916\u001b[0;31m         dl_manager, **split_generators_kwargs):\n\u001b[0m\u001b[1;32m    917\u001b[0m       \u001b[0;32mif\u001b[0m \u001b[0mstr\u001b[0m\u001b[0;34m(\u001b[0m\u001b[0msplit_generator\u001b[0m\u001b[0;34m.\u001b[0m\u001b[0msplit_info\u001b[0m\u001b[0;34m.\u001b[0m\u001b[0mname\u001b[0m\u001b[0;34m)\u001b[0m\u001b[0;34m.\u001b[0m\u001b[0mlower\u001b[0m\u001b[0;34m(\u001b[0m\u001b[0;34m)\u001b[0m \u001b[0;34m==\u001b[0m \u001b[0;34m\"all\"\u001b[0m\u001b[0;34m:\u001b[0m\u001b[0;34m\u001b[0m\u001b[0;34m\u001b[0m\u001b[0m\n\u001b[1;32m    918\u001b[0m         raise ValueError(\n",
      "\u001b[0;32m~/anaconda3/lib/python3.7/site-packages/tensorflow_datasets/image_classification/oxford_flowers102.py\u001b[0m in \u001b[0;36m_split_generators\u001b[0;34m(self, dl_manager)\u001b[0m\n\u001b[1;32m    107\u001b[0m             extract_method=tfds.download.ExtractMethod.TAR),\n\u001b[1;32m    108\u001b[0m         \u001b[0;34m\"labels\"\u001b[0m\u001b[0;34m:\u001b[0m \u001b[0mos\u001b[0m\u001b[0;34m.\u001b[0m\u001b[0mpath\u001b[0m\u001b[0;34m.\u001b[0m\u001b[0mjoin\u001b[0m\u001b[0;34m(\u001b[0m\u001b[0m_BASE_URL\u001b[0m\u001b[0;34m,\u001b[0m \u001b[0;34m\"imagelabels.mat\"\u001b[0m\u001b[0;34m)\u001b[0m\u001b[0;34m,\u001b[0m\u001b[0;34m\u001b[0m\u001b[0;34m\u001b[0m\u001b[0m\n\u001b[0;32m--> 109\u001b[0;31m         \u001b[0;34m\"setid\"\u001b[0m\u001b[0;34m:\u001b[0m \u001b[0mos\u001b[0m\u001b[0;34m.\u001b[0m\u001b[0mpath\u001b[0m\u001b[0;34m.\u001b[0m\u001b[0mjoin\u001b[0m\u001b[0;34m(\u001b[0m\u001b[0m_BASE_URL\u001b[0m\u001b[0;34m,\u001b[0m \u001b[0;34m\"setid.mat\"\u001b[0m\u001b[0;34m)\u001b[0m\u001b[0;34m,\u001b[0m\u001b[0;34m\u001b[0m\u001b[0;34m\u001b[0m\u001b[0m\n\u001b[0m\u001b[1;32m    110\u001b[0m     })\n\u001b[1;32m    111\u001b[0m \u001b[0;34m\u001b[0m\u001b[0m\n",
      "\u001b[0;32m~/anaconda3/lib/python3.7/site-packages/tensorflow_datasets/core/download/download_manager.py\u001b[0m in \u001b[0;36mdownload_and_extract\u001b[0;34m(self, url_or_urls)\u001b[0m\n\u001b[1;32m    417\u001b[0m     \u001b[0;32mwith\u001b[0m \u001b[0mself\u001b[0m\u001b[0;34m.\u001b[0m\u001b[0m_downloader\u001b[0m\u001b[0;34m.\u001b[0m\u001b[0mtqdm\u001b[0m\u001b[0;34m(\u001b[0m\u001b[0;34m)\u001b[0m\u001b[0;34m:\u001b[0m\u001b[0;34m\u001b[0m\u001b[0;34m\u001b[0m\u001b[0m\n\u001b[1;32m    418\u001b[0m       \u001b[0;32mwith\u001b[0m \u001b[0mself\u001b[0m\u001b[0;34m.\u001b[0m\u001b[0m_extractor\u001b[0m\u001b[0;34m.\u001b[0m\u001b[0mtqdm\u001b[0m\u001b[0;34m(\u001b[0m\u001b[0;34m)\u001b[0m\u001b[0;34m:\u001b[0m\u001b[0;34m\u001b[0m\u001b[0;34m\u001b[0m\u001b[0m\n\u001b[0;32m--> 419\u001b[0;31m         \u001b[0;32mreturn\u001b[0m \u001b[0m_map_promise\u001b[0m\u001b[0;34m(\u001b[0m\u001b[0mself\u001b[0m\u001b[0;34m.\u001b[0m\u001b[0m_download_extract\u001b[0m\u001b[0;34m,\u001b[0m \u001b[0murl_or_urls\u001b[0m\u001b[0;34m)\u001b[0m\u001b[0;34m\u001b[0m\u001b[0;34m\u001b[0m\u001b[0m\n\u001b[0m\u001b[1;32m    420\u001b[0m \u001b[0;34m\u001b[0m\u001b[0m\n\u001b[1;32m    421\u001b[0m   \u001b[0;34m@\u001b[0m\u001b[0mproperty\u001b[0m\u001b[0;34m\u001b[0m\u001b[0;34m\u001b[0m\u001b[0m\n",
      "\u001b[0;32m~/anaconda3/lib/python3.7/site-packages/tensorflow_datasets/core/download/download_manager.py\u001b[0m in \u001b[0;36m_map_promise\u001b[0;34m(map_fn, all_inputs)\u001b[0m\n\u001b[1;32m    460\u001b[0m   \u001b[0;34m\"\"\"Map the function into each element and resolve the promise.\"\"\"\u001b[0m\u001b[0;34m\u001b[0m\u001b[0;34m\u001b[0m\u001b[0m\n\u001b[1;32m    461\u001b[0m   \u001b[0mall_promises\u001b[0m \u001b[0;34m=\u001b[0m \u001b[0mutils\u001b[0m\u001b[0;34m.\u001b[0m\u001b[0mmap_nested\u001b[0m\u001b[0;34m(\u001b[0m\u001b[0mmap_fn\u001b[0m\u001b[0;34m,\u001b[0m \u001b[0mall_inputs\u001b[0m\u001b[0;34m)\u001b[0m  \u001b[0;31m# Apply the function\u001b[0m\u001b[0;34m\u001b[0m\u001b[0;34m\u001b[0m\u001b[0m\n\u001b[0;32m--> 462\u001b[0;31m   \u001b[0mres\u001b[0m \u001b[0;34m=\u001b[0m \u001b[0mutils\u001b[0m\u001b[0;34m.\u001b[0m\u001b[0mmap_nested\u001b[0m\u001b[0;34m(\u001b[0m\u001b[0m_wait_on_promise\u001b[0m\u001b[0;34m,\u001b[0m \u001b[0mall_promises\u001b[0m\u001b[0;34m)\u001b[0m\u001b[0;34m\u001b[0m\u001b[0;34m\u001b[0m\u001b[0m\n\u001b[0m\u001b[1;32m    463\u001b[0m   \u001b[0;32mreturn\u001b[0m \u001b[0mres\u001b[0m\u001b[0;34m\u001b[0m\u001b[0;34m\u001b[0m\u001b[0m\n",
      "\u001b[0;32m~/anaconda3/lib/python3.7/site-packages/tensorflow_datasets/core/utils/py_utils.py\u001b[0m in \u001b[0;36mmap_nested\u001b[0;34m(function, data_struct, dict_only, map_tuple)\u001b[0m\n\u001b[1;32m    151\u001b[0m     return {\n\u001b[1;32m    152\u001b[0m         \u001b[0mk\u001b[0m\u001b[0;34m:\u001b[0m \u001b[0mmap_nested\u001b[0m\u001b[0;34m(\u001b[0m\u001b[0mfunction\u001b[0m\u001b[0;34m,\u001b[0m \u001b[0mv\u001b[0m\u001b[0;34m,\u001b[0m \u001b[0mdict_only\u001b[0m\u001b[0;34m,\u001b[0m \u001b[0mmap_tuple\u001b[0m\u001b[0;34m)\u001b[0m\u001b[0;34m\u001b[0m\u001b[0;34m\u001b[0m\u001b[0m\n\u001b[0;32m--> 153\u001b[0;31m         \u001b[0;32mfor\u001b[0m \u001b[0mk\u001b[0m\u001b[0;34m,\u001b[0m \u001b[0mv\u001b[0m \u001b[0;32min\u001b[0m \u001b[0mdata_struct\u001b[0m\u001b[0;34m.\u001b[0m\u001b[0mitems\u001b[0m\u001b[0;34m(\u001b[0m\u001b[0;34m)\u001b[0m\u001b[0;34m\u001b[0m\u001b[0;34m\u001b[0m\u001b[0m\n\u001b[0m\u001b[1;32m    154\u001b[0m     }\n\u001b[1;32m    155\u001b[0m   \u001b[0;32melif\u001b[0m \u001b[0;32mnot\u001b[0m \u001b[0mdict_only\u001b[0m\u001b[0;34m:\u001b[0m\u001b[0;34m\u001b[0m\u001b[0;34m\u001b[0m\u001b[0m\n",
      "\u001b[0;32m~/anaconda3/lib/python3.7/site-packages/tensorflow_datasets/core/utils/py_utils.py\u001b[0m in \u001b[0;36m<dictcomp>\u001b[0;34m(.0)\u001b[0m\n\u001b[1;32m    151\u001b[0m     return {\n\u001b[1;32m    152\u001b[0m         \u001b[0mk\u001b[0m\u001b[0;34m:\u001b[0m \u001b[0mmap_nested\u001b[0m\u001b[0;34m(\u001b[0m\u001b[0mfunction\u001b[0m\u001b[0;34m,\u001b[0m \u001b[0mv\u001b[0m\u001b[0;34m,\u001b[0m \u001b[0mdict_only\u001b[0m\u001b[0;34m,\u001b[0m \u001b[0mmap_tuple\u001b[0m\u001b[0;34m)\u001b[0m\u001b[0;34m\u001b[0m\u001b[0;34m\u001b[0m\u001b[0m\n\u001b[0;32m--> 153\u001b[0;31m         \u001b[0;32mfor\u001b[0m \u001b[0mk\u001b[0m\u001b[0;34m,\u001b[0m \u001b[0mv\u001b[0m \u001b[0;32min\u001b[0m \u001b[0mdata_struct\u001b[0m\u001b[0;34m.\u001b[0m\u001b[0mitems\u001b[0m\u001b[0;34m(\u001b[0m\u001b[0;34m)\u001b[0m\u001b[0;34m\u001b[0m\u001b[0;34m\u001b[0m\u001b[0m\n\u001b[0m\u001b[1;32m    154\u001b[0m     }\n\u001b[1;32m    155\u001b[0m   \u001b[0;32melif\u001b[0m \u001b[0;32mnot\u001b[0m \u001b[0mdict_only\u001b[0m\u001b[0;34m:\u001b[0m\u001b[0;34m\u001b[0m\u001b[0;34m\u001b[0m\u001b[0m\n",
      "\u001b[0;32m~/anaconda3/lib/python3.7/site-packages/tensorflow_datasets/core/utils/py_utils.py\u001b[0m in \u001b[0;36mmap_nested\u001b[0;34m(function, data_struct, dict_only, map_tuple)\u001b[0m\n\u001b[1;32m    165\u001b[0m         \u001b[0;32mreturn\u001b[0m \u001b[0mtuple\u001b[0m\u001b[0;34m(\u001b[0m\u001b[0mmapped\u001b[0m\u001b[0;34m)\u001b[0m\u001b[0;34m\u001b[0m\u001b[0;34m\u001b[0m\u001b[0m\n\u001b[1;32m    166\u001b[0m   \u001b[0;31m# Singleton\u001b[0m\u001b[0;34m\u001b[0m\u001b[0;34m\u001b[0m\u001b[0;34m\u001b[0m\u001b[0m\n\u001b[0;32m--> 167\u001b[0;31m   \u001b[0;32mreturn\u001b[0m \u001b[0mfunction\u001b[0m\u001b[0;34m(\u001b[0m\u001b[0mdata_struct\u001b[0m\u001b[0;34m)\u001b[0m\u001b[0;34m\u001b[0m\u001b[0;34m\u001b[0m\u001b[0m\n\u001b[0m\u001b[1;32m    168\u001b[0m \u001b[0;34m\u001b[0m\u001b[0m\n\u001b[1;32m    169\u001b[0m \u001b[0;34m\u001b[0m\u001b[0m\n",
      "\u001b[0;32m~/anaconda3/lib/python3.7/site-packages/tensorflow_datasets/core/download/download_manager.py\u001b[0m in \u001b[0;36m_wait_on_promise\u001b[0;34m(p)\u001b[0m\n\u001b[1;32m    444\u001b[0m \u001b[0;34m\u001b[0m\u001b[0m\n\u001b[1;32m    445\u001b[0m   \u001b[0;32mdef\u001b[0m \u001b[0m_wait_on_promise\u001b[0m\u001b[0;34m(\u001b[0m\u001b[0mp\u001b[0m\u001b[0;34m)\u001b[0m\u001b[0;34m:\u001b[0m\u001b[0;34m\u001b[0m\u001b[0;34m\u001b[0m\u001b[0m\n\u001b[0;32m--> 446\u001b[0;31m     \u001b[0;32mreturn\u001b[0m \u001b[0mp\u001b[0m\u001b[0;34m.\u001b[0m\u001b[0mget\u001b[0m\u001b[0;34m(\u001b[0m\u001b[0;34m)\u001b[0m\u001b[0;34m\u001b[0m\u001b[0;34m\u001b[0m\u001b[0m\n\u001b[0m\u001b[1;32m    447\u001b[0m \u001b[0;34m\u001b[0m\u001b[0m\n\u001b[1;32m    448\u001b[0m \u001b[0;32melse\u001b[0m\u001b[0;34m:\u001b[0m\u001b[0;34m\u001b[0m\u001b[0;34m\u001b[0m\u001b[0m\n",
      "\u001b[0;32m~/anaconda3/lib/python3.7/site-packages/promise/promise.py\u001b[0m in \u001b[0;36mget\u001b[0;34m(self, timeout)\u001b[0m\n\u001b[1;32m    510\u001b[0m         \u001b[0mtarget\u001b[0m \u001b[0;34m=\u001b[0m \u001b[0mself\u001b[0m\u001b[0;34m.\u001b[0m\u001b[0m_target\u001b[0m\u001b[0;34m(\u001b[0m\u001b[0;34m)\u001b[0m\u001b[0;34m\u001b[0m\u001b[0;34m\u001b[0m\u001b[0m\n\u001b[1;32m    511\u001b[0m         \u001b[0mself\u001b[0m\u001b[0;34m.\u001b[0m\u001b[0m_wait\u001b[0m\u001b[0;34m(\u001b[0m\u001b[0mtimeout\u001b[0m \u001b[0;32mor\u001b[0m \u001b[0mDEFAULT_TIMEOUT\u001b[0m\u001b[0;34m)\u001b[0m\u001b[0;34m\u001b[0m\u001b[0;34m\u001b[0m\u001b[0m\n\u001b[0;32m--> 512\u001b[0;31m         \u001b[0;32mreturn\u001b[0m \u001b[0mself\u001b[0m\u001b[0;34m.\u001b[0m\u001b[0m_target_settled_value\u001b[0m\u001b[0;34m(\u001b[0m\u001b[0m_raise\u001b[0m\u001b[0;34m=\u001b[0m\u001b[0;32mTrue\u001b[0m\u001b[0;34m)\u001b[0m\u001b[0;34m\u001b[0m\u001b[0;34m\u001b[0m\u001b[0m\n\u001b[0m\u001b[1;32m    513\u001b[0m \u001b[0;34m\u001b[0m\u001b[0m\n\u001b[1;32m    514\u001b[0m     \u001b[0;32mdef\u001b[0m \u001b[0m_target_settled_value\u001b[0m\u001b[0;34m(\u001b[0m\u001b[0mself\u001b[0m\u001b[0;34m,\u001b[0m \u001b[0m_raise\u001b[0m\u001b[0;34m=\u001b[0m\u001b[0;32mFalse\u001b[0m\u001b[0;34m)\u001b[0m\u001b[0;34m:\u001b[0m\u001b[0;34m\u001b[0m\u001b[0;34m\u001b[0m\u001b[0m\n",
      "\u001b[0;32m~/anaconda3/lib/python3.7/site-packages/promise/promise.py\u001b[0m in \u001b[0;36m_target_settled_value\u001b[0;34m(self, _raise)\u001b[0m\n\u001b[1;32m    514\u001b[0m     \u001b[0;32mdef\u001b[0m \u001b[0m_target_settled_value\u001b[0m\u001b[0;34m(\u001b[0m\u001b[0mself\u001b[0m\u001b[0;34m,\u001b[0m \u001b[0m_raise\u001b[0m\u001b[0;34m=\u001b[0m\u001b[0;32mFalse\u001b[0m\u001b[0;34m)\u001b[0m\u001b[0;34m:\u001b[0m\u001b[0;34m\u001b[0m\u001b[0;34m\u001b[0m\u001b[0m\n\u001b[1;32m    515\u001b[0m         \u001b[0;31m# type: (bool) -> Any\u001b[0m\u001b[0;34m\u001b[0m\u001b[0;34m\u001b[0m\u001b[0;34m\u001b[0m\u001b[0m\n\u001b[0;32m--> 516\u001b[0;31m         \u001b[0;32mreturn\u001b[0m \u001b[0mself\u001b[0m\u001b[0;34m.\u001b[0m\u001b[0m_target\u001b[0m\u001b[0;34m(\u001b[0m\u001b[0;34m)\u001b[0m\u001b[0;34m.\u001b[0m\u001b[0m_settled_value\u001b[0m\u001b[0;34m(\u001b[0m\u001b[0m_raise\u001b[0m\u001b[0;34m)\u001b[0m\u001b[0;34m\u001b[0m\u001b[0;34m\u001b[0m\u001b[0m\n\u001b[0m\u001b[1;32m    517\u001b[0m \u001b[0;34m\u001b[0m\u001b[0m\n\u001b[1;32m    518\u001b[0m     \u001b[0m_value\u001b[0m \u001b[0;34m=\u001b[0m \u001b[0m_reason\u001b[0m \u001b[0;34m=\u001b[0m \u001b[0m_target_settled_value\u001b[0m\u001b[0;34m\u001b[0m\u001b[0;34m\u001b[0m\u001b[0m\n",
      "\u001b[0;32m~/anaconda3/lib/python3.7/site-packages/promise/promise.py\u001b[0m in \u001b[0;36m_settled_value\u001b[0;34m(self, _raise)\u001b[0m\n\u001b[1;32m    224\u001b[0m             \u001b[0;32mif\u001b[0m \u001b[0m_raise\u001b[0m\u001b[0;34m:\u001b[0m\u001b[0;34m\u001b[0m\u001b[0;34m\u001b[0m\u001b[0m\n\u001b[1;32m    225\u001b[0m                 \u001b[0mraise_val\u001b[0m \u001b[0;34m=\u001b[0m \u001b[0mself\u001b[0m\u001b[0;34m.\u001b[0m\u001b[0m_fulfillment_handler0\u001b[0m\u001b[0;34m\u001b[0m\u001b[0;34m\u001b[0m\u001b[0m\n\u001b[0;32m--> 226\u001b[0;31m                 \u001b[0mreraise\u001b[0m\u001b[0;34m(\u001b[0m\u001b[0mtype\u001b[0m\u001b[0;34m(\u001b[0m\u001b[0mraise_val\u001b[0m\u001b[0;34m)\u001b[0m\u001b[0;34m,\u001b[0m \u001b[0mraise_val\u001b[0m\u001b[0;34m,\u001b[0m \u001b[0mself\u001b[0m\u001b[0;34m.\u001b[0m\u001b[0m_traceback\u001b[0m\u001b[0;34m)\u001b[0m\u001b[0;34m\u001b[0m\u001b[0;34m\u001b[0m\u001b[0m\n\u001b[0m\u001b[1;32m    227\u001b[0m             \u001b[0;32mreturn\u001b[0m \u001b[0mself\u001b[0m\u001b[0;34m.\u001b[0m\u001b[0m_fulfillment_handler0\u001b[0m\u001b[0;34m\u001b[0m\u001b[0;34m\u001b[0m\u001b[0m\n\u001b[1;32m    228\u001b[0m \u001b[0;34m\u001b[0m\u001b[0m\n",
      "\u001b[0;32m~/anaconda3/lib/python3.7/site-packages/six.py\u001b[0m in \u001b[0;36mreraise\u001b[0;34m(tp, value, tb)\u001b[0m\n\u001b[1;32m    694\u001b[0m             \u001b[0;32mif\u001b[0m \u001b[0mvalue\u001b[0m\u001b[0;34m.\u001b[0m\u001b[0m__traceback__\u001b[0m \u001b[0;32mis\u001b[0m \u001b[0;32mnot\u001b[0m \u001b[0mtb\u001b[0m\u001b[0;34m:\u001b[0m\u001b[0;34m\u001b[0m\u001b[0;34m\u001b[0m\u001b[0m\n\u001b[1;32m    695\u001b[0m                 \u001b[0;32mraise\u001b[0m \u001b[0mvalue\u001b[0m\u001b[0;34m.\u001b[0m\u001b[0mwith_traceback\u001b[0m\u001b[0;34m(\u001b[0m\u001b[0mtb\u001b[0m\u001b[0;34m)\u001b[0m\u001b[0;34m\u001b[0m\u001b[0;34m\u001b[0m\u001b[0m\n\u001b[0;32m--> 696\u001b[0;31m             \u001b[0;32mraise\u001b[0m \u001b[0mvalue\u001b[0m\u001b[0;34m\u001b[0m\u001b[0;34m\u001b[0m\u001b[0m\n\u001b[0m\u001b[1;32m    697\u001b[0m         \u001b[0;32mfinally\u001b[0m\u001b[0;34m:\u001b[0m\u001b[0;34m\u001b[0m\u001b[0;34m\u001b[0m\u001b[0m\n\u001b[1;32m    698\u001b[0m             \u001b[0mvalue\u001b[0m \u001b[0;34m=\u001b[0m \u001b[0;32mNone\u001b[0m\u001b[0;34m\u001b[0m\u001b[0;34m\u001b[0m\u001b[0m\n",
      "\u001b[0;32m~/anaconda3/lib/python3.7/site-packages/promise/promise.py\u001b[0m in \u001b[0;36mtry_catch\u001b[0;34m(handler, *args, **kwargs)\u001b[0m\n\u001b[1;32m     85\u001b[0m     \u001b[0;31m# type: (Callable, Any, Any) -> Union[Tuple[Any, None], Tuple[None, Tuple[Exception, Optional[TracebackType]]]]\u001b[0m\u001b[0;34m\u001b[0m\u001b[0;34m\u001b[0m\u001b[0;34m\u001b[0m\u001b[0m\n\u001b[1;32m     86\u001b[0m     \u001b[0;32mtry\u001b[0m\u001b[0;34m:\u001b[0m\u001b[0;34m\u001b[0m\u001b[0;34m\u001b[0m\u001b[0m\n\u001b[0;32m---> 87\u001b[0;31m         \u001b[0;32mreturn\u001b[0m \u001b[0;34m(\u001b[0m\u001b[0mhandler\u001b[0m\u001b[0;34m(\u001b[0m\u001b[0;34m*\u001b[0m\u001b[0margs\u001b[0m\u001b[0;34m,\u001b[0m \u001b[0;34m**\u001b[0m\u001b[0mkwargs\u001b[0m\u001b[0;34m)\u001b[0m\u001b[0;34m,\u001b[0m \u001b[0;32mNone\u001b[0m\u001b[0;34m)\u001b[0m\u001b[0;34m\u001b[0m\u001b[0;34m\u001b[0m\u001b[0m\n\u001b[0m\u001b[1;32m     88\u001b[0m     \u001b[0;32mexcept\u001b[0m \u001b[0mException\u001b[0m \u001b[0;32mas\u001b[0m \u001b[0me\u001b[0m\u001b[0;34m:\u001b[0m\u001b[0;34m\u001b[0m\u001b[0;34m\u001b[0m\u001b[0m\n\u001b[1;32m     89\u001b[0m         \u001b[0mtb\u001b[0m \u001b[0;34m=\u001b[0m \u001b[0mexc_info\u001b[0m\u001b[0;34m(\u001b[0m\u001b[0;34m)\u001b[0m\u001b[0;34m[\u001b[0m\u001b[0;36m2\u001b[0m\u001b[0;34m]\u001b[0m\u001b[0;34m\u001b[0m\u001b[0;34m\u001b[0m\u001b[0m\n",
      "\u001b[0;32m~/anaconda3/lib/python3.7/site-packages/tensorflow_datasets/core/download/download_manager.py\u001b[0m in \u001b[0;36mcallback\u001b[0;34m(val)\u001b[0m\n\u001b[1;32m    304\u001b[0m       \u001b[0mchecksum\u001b[0m\u001b[0;34m,\u001b[0m \u001b[0mdl_size\u001b[0m \u001b[0;34m=\u001b[0m \u001b[0mval\u001b[0m\u001b[0;34m\u001b[0m\u001b[0;34m\u001b[0m\u001b[0m\n\u001b[1;32m    305\u001b[0m       return self._handle_download_result(\n\u001b[0;32m--> 306\u001b[0;31m           resource, download_dir_path, checksum, dl_size)\n\u001b[0m\u001b[1;32m    307\u001b[0m     \u001b[0;32mreturn\u001b[0m \u001b[0mself\u001b[0m\u001b[0;34m.\u001b[0m\u001b[0m_downloader\u001b[0m\u001b[0;34m.\u001b[0m\u001b[0mdownload\u001b[0m\u001b[0;34m(\u001b[0m\u001b[0murl\u001b[0m\u001b[0;34m,\u001b[0m \u001b[0mdownload_dir_path\u001b[0m\u001b[0;34m)\u001b[0m\u001b[0;34m.\u001b[0m\u001b[0mthen\u001b[0m\u001b[0;34m(\u001b[0m\u001b[0mcallback\u001b[0m\u001b[0;34m)\u001b[0m\u001b[0;34m\u001b[0m\u001b[0;34m\u001b[0m\u001b[0m\n\u001b[1;32m    308\u001b[0m \u001b[0;34m\u001b[0m\u001b[0m\n",
      "\u001b[0;32m~/anaconda3/lib/python3.7/site-packages/tensorflow_datasets/core/download/download_manager.py\u001b[0m in \u001b[0;36m_handle_download_result\u001b[0;34m(self, resource, tmp_dir_path, sha256, dl_size)\u001b[0m\n\u001b[1;32m    259\u001b[0m       \u001b[0mself\u001b[0m\u001b[0;34m.\u001b[0m\u001b[0m_record_sizes_checksums\u001b[0m\u001b[0;34m(\u001b[0m\u001b[0;34m)\u001b[0m\u001b[0;34m\u001b[0m\u001b[0;34m\u001b[0m\u001b[0m\n\u001b[1;32m    260\u001b[0m     \u001b[0;32melif\u001b[0m \u001b[0;34m(\u001b[0m\u001b[0mdl_size\u001b[0m\u001b[0;34m,\u001b[0m \u001b[0msha256\u001b[0m\u001b[0;34m)\u001b[0m \u001b[0;34m!=\u001b[0m \u001b[0mself\u001b[0m\u001b[0;34m.\u001b[0m\u001b[0m_sizes_checksums\u001b[0m\u001b[0;34m.\u001b[0m\u001b[0mget\u001b[0m\u001b[0;34m(\u001b[0m\u001b[0mresource\u001b[0m\u001b[0;34m.\u001b[0m\u001b[0murl\u001b[0m\u001b[0;34m,\u001b[0m \u001b[0;32mNone\u001b[0m\u001b[0;34m)\u001b[0m\u001b[0;34m:\u001b[0m\u001b[0;34m\u001b[0m\u001b[0;34m\u001b[0m\u001b[0m\n\u001b[0;32m--> 261\u001b[0;31m       \u001b[0;32mraise\u001b[0m \u001b[0mNonMatchingChecksumError\u001b[0m\u001b[0;34m(\u001b[0m\u001b[0mresource\u001b[0m\u001b[0;34m.\u001b[0m\u001b[0murl\u001b[0m\u001b[0;34m,\u001b[0m \u001b[0mtmp_path\u001b[0m\u001b[0;34m)\u001b[0m\u001b[0;34m\u001b[0m\u001b[0;34m\u001b[0m\u001b[0m\n\u001b[0m\u001b[1;32m    262\u001b[0m     \u001b[0mdownload_path\u001b[0m \u001b[0;34m=\u001b[0m \u001b[0mself\u001b[0m\u001b[0;34m.\u001b[0m\u001b[0m_get_final_dl_path\u001b[0m\u001b[0;34m(\u001b[0m\u001b[0mresource\u001b[0m\u001b[0;34m.\u001b[0m\u001b[0murl\u001b[0m\u001b[0;34m,\u001b[0m \u001b[0msha256\u001b[0m\u001b[0;34m)\u001b[0m\u001b[0;34m\u001b[0m\u001b[0;34m\u001b[0m\u001b[0m\n\u001b[1;32m    263\u001b[0m     resource_lib.write_info_file(resource, download_path, self._dataset_name,\n",
      "\u001b[0;31mNonMatchingChecksumError\u001b[0m: Artifact https://www.robots.ox.ac.uk/~vgg/data/flowers/102/102flowers.tgz, downloaded to /Users/akanshasinghlnu/tensorflow_datasets/downloads/robots.ox.ac.uk_vgg_flowers_102_102flowersoWedSp98maBn1wypsDib6T-q2NVbO40fwvTflmPmQpY.tgz.tmp.698515780ccc49a4b3c890a51063639a/102flowers.tgz, has wrong checksum. This might indicate:\n * The website may be down (e.g. returned a 503 status code). Please check the url.\n * For Google Drive URLs, try again later as Drive sometimes rejects downloads when too many people access the same URL. See https://github.com/tensorflow/datasets/issues/1482\n * The original datasets files may have been updated. In this case the TFDS dataset builder should be updated to use the new files and checksums. Sorry about that. Please open an issue or send us a PR with a fix.\n * If you're adding a new dataset, don't forget to register the checksums as explained in: https://www.tensorflow.org/datasets/add_dataset#2_run_download_and_prepare_locally\n"
     ]
    }
   ],
   "source": [
    "# TODO: Load the dataset with TensorFlow Datasets.\n",
    "train_split = 60\n",
    "test_val_split = 20\n",
    "\n",
    "# splits = tfds.Split.ALL.subsplit([train_split, test_val_split, test_val_split])\n",
    "# splits = tfds.Split.TRAIN.subsplit([train_split, test_val_split, test_val_split])\n",
    "dataset, dataset_info = tfds.load('oxford_flowers102', data_dir='/Users/akanshasinghlnu/tensorflow_datasets', as_supervised=True, with_info=True)\n",
    "\n",
    "\n",
    "# TODO: Create a training set, a validation set and a test set.\n",
    "# training_set, validation_set, test_set = dataset\n"
   ]
  },
  {
   "cell_type": "code",
   "execution_count": 11,
   "metadata": {},
   "outputs": [
    {
     "data": {
      "text/plain": [
       "{'test': <PrefetchDataset shapes: ((None, None, 3), ()), types: (tf.uint8, tf.int64)>,\n",
       " 'train': <PrefetchDataset shapes: ((None, None, 3), ()), types: (tf.uint8, tf.int64)>,\n",
       " 'validation': <PrefetchDataset shapes: ((None, None, 3), ()), types: (tf.uint8, tf.int64)>}"
      ]
     },
     "execution_count": 11,
     "metadata": {},
     "output_type": "execute_result"
    }
   ],
   "source": [
    "dataset.info"
   ]
  },
  {
   "cell_type": "markdown",
   "metadata": {
    "colab_type": "text",
    "id": "S5pdQnDbf0-j"
   },
   "source": [
    "## Explore the Dataset"
   ]
  },
  {
   "cell_type": "code",
   "execution_count": 9,
   "metadata": {
    "colab": {
     "base_uri": "https://localhost:8080/",
     "height": 102
    },
    "colab_type": "code",
    "id": "XikJ4X7FUv8v",
    "outputId": "10240009-1148-41ae-8ce0-4025c2f2fa87"
   },
   "outputs": [
    {
     "ename": "AttributeError",
     "evalue": "'DatasetInfo' object has no attribute 'total_num_examples'",
     "output_type": "error",
     "traceback": [
      "\u001b[0;31m---------------------------------------------------------------------------\u001b[0m",
      "\u001b[0;31mAttributeError\u001b[0m                            Traceback (most recent call last)",
      "\u001b[0;32m<ipython-input-9-0e2f1ce40b5d>\u001b[0m in \u001b[0;36m<module>\u001b[0;34m\u001b[0m\n\u001b[1;32m      1\u001b[0m \u001b[0;31m# TODO: Get the number of examples in each set from the dataset info.\u001b[0m\u001b[0;34m\u001b[0m\u001b[0;34m\u001b[0m\u001b[0;34m\u001b[0m\u001b[0m\n\u001b[0;32m----> 2\u001b[0;31m \u001b[0mprint\u001b[0m \u001b[0;34m(\u001b[0m\u001b[0mdataset_info\u001b[0m\u001b[0;34m.\u001b[0m\u001b[0mtotal_num_examples\u001b[0m\u001b[0;34m)\u001b[0m\u001b[0;34m\u001b[0m\u001b[0;34m\u001b[0m\u001b[0m\n\u001b[0m\u001b[1;32m      3\u001b[0m \u001b[0;31m# TODO: Get the number of classes in the dataset from the dataset info.\u001b[0m\u001b[0;34m\u001b[0m\u001b[0;34m\u001b[0m\u001b[0;34m\u001b[0m\u001b[0m\n",
      "\u001b[0;31mAttributeError\u001b[0m: 'DatasetInfo' object has no attribute 'total_num_examples'"
     ]
    }
   ],
   "source": [
    "# TODO: Get the number of examples in each set from the dataset info.\n",
    "print (dataset_info.total_num_examples)\n",
    "# TODO: Get the number of classes in the dataset from the dataset info.\n"
   ]
  },
  {
   "cell_type": "code",
   "execution_count": null,
   "metadata": {
    "colab": {
     "base_uri": "https://localhost:8080/",
     "height": 68
    },
    "colab_type": "code",
    "id": "CWR9ScCbPI_D",
    "outputId": "fdf01c8d-2db9-4d7c-a566-4db2599fd1ab"
   },
   "outputs": [],
   "source": [
    "# TODO: Print the shape and corresponding label of 3 images in the training set.\n"
   ]
  },
  {
   "cell_type": "code",
   "execution_count": null,
   "metadata": {
    "colab": {
     "base_uri": "https://localhost:8080/",
     "height": 280
    },
    "colab_type": "code",
    "id": "DQbnq8htRTnl",
    "outputId": "32a0e1af-2b04-440e-ddb4-835732be3e83"
   },
   "outputs": [],
   "source": [
    "# TODO: Plot 1 image from the training set. Set the title \n",
    "# of the plot to the corresponding image label. \n"
   ]
  },
  {
   "cell_type": "markdown",
   "metadata": {
    "colab_type": "text",
    "id": "zuh1841cs-j1"
   },
   "source": [
    "### Label Mapping\n",
    "\n",
    "You'll also need to load in a mapping from label to category name. You can find this in the file `label_map.json`. It's a JSON object which you can read in with the [`json` module](https://docs.python.org/3.7/library/json.html). This will give you a dictionary mapping the integer coded labels to the actual names of the flowers."
   ]
  },
  {
   "cell_type": "code",
   "execution_count": null,
   "metadata": {
    "colab": {},
    "colab_type": "code",
    "id": "JoVzdO3KsdSk"
   },
   "outputs": [],
   "source": [
    "with open('label_map.json', 'r') as f:\n",
    "    class_names = json.load(f)"
   ]
  },
  {
   "cell_type": "code",
   "execution_count": null,
   "metadata": {
    "colab": {
     "base_uri": "https://localhost:8080/",
     "height": 280
    },
    "colab_type": "code",
    "id": "fc6pMUZgEvUo",
    "outputId": "4274fd43-5cee-4523-885f-a18f6f277dd6"
   },
   "outputs": [],
   "source": [
    "# TODO: Plot 1 image from the training set. Set the title \n",
    "# of the plot to the corresponding class name. \n",
    "\n"
   ]
  },
  {
   "cell_type": "markdown",
   "metadata": {
    "colab_type": "text",
    "id": "0gL7AaqNf-NC"
   },
   "source": [
    "## Create Pipeline"
   ]
  },
  {
   "cell_type": "code",
   "execution_count": null,
   "metadata": {
    "colab": {
     "base_uri": "https://localhost:8080/",
     "height": 88
    },
    "colab_type": "code",
    "id": "5hNznLbPNZxS",
    "outputId": "7c114910-b75f-4220-cda9-f84426ec2728"
   },
   "outputs": [],
   "source": [
    "# TODO: Create a pipeline for each set.\n",
    "\n"
   ]
  },
  {
   "cell_type": "markdown",
   "metadata": {
    "colab_type": "text",
    "id": "gR9gtRbeXPYx"
   },
   "source": [
    "# Build and Train the Classifier\n",
    "\n",
    "Now that the data is ready, it's time to build and train the classifier. You should use the MobileNet pre-trained model from TensorFlow Hub to get the image features. Build and train a new feed-forward classifier using those features.\n",
    "\n",
    "We're going to leave this part up to you. If you want to talk through it with someone, chat with your fellow students! \n",
    "\n",
    "Refer to the rubric for guidance on successfully completing this section. Things you'll need to do:\n",
    "\n",
    "* Load the MobileNet pre-trained network from TensorFlow Hub.\n",
    "* Define a new, untrained feed-forward network as a classifier.\n",
    "* Train the classifier.\n",
    "* Plot the loss and accuracy values achieved during training for the training and validation set.\n",
    "* Save your trained model as a Keras model. \n",
    "\n",
    "We've left a cell open for you below, but use as many as you need. Our advice is to break the problem up into smaller parts you can run separately. Check that each part is doing what you expect, then move on to the next. You'll likely find that as you work through each part, you'll need to go back and modify your previous code. This is totally normal!\n",
    "\n",
    "When training make sure you're updating only the weights of the feed-forward network. You should be able to get the validation accuracy above 70% if you build everything right.\n",
    "\n",
    "**Note for Workspace users:** One important tip if you're using the workspace to run your code: To avoid having your workspace disconnect during the long-running tasks in this notebook, please read in the earlier page in this lesson called Intro to GPU Workspaces about Keeping Your Session Active. You'll want to include code from the workspace_utils.py module. Also, If your model is over 1 GB when saved as a checkpoint, there might be issues with saving backups in your workspace. If your saved checkpoint is larger than 1 GB (you can open a terminal and check with `ls -lh`), you should reduce the size of your hidden layers and train again."
   ]
  },
  {
   "cell_type": "code",
   "execution_count": null,
   "metadata": {
    "colab": {},
    "colab_type": "code",
    "id": "4zElEHViXLni"
   },
   "outputs": [],
   "source": [
    "# TODO: Build and train your network.\n",
    "\n"
   ]
  },
  {
   "cell_type": "code",
   "execution_count": null,
   "metadata": {
    "colab": {
     "base_uri": "https://localhost:8080/",
     "height": 498
    },
    "colab_type": "code",
    "id": "VU6sWzx4e7Yb",
    "outputId": "f7b5c7c5-683a-463c-9228-68c4918bdd5b"
   },
   "outputs": [],
   "source": [
    "# TODO: Plot the loss and accuracy values achieved during training for the training and validation set.\n",
    "\n"
   ]
  },
  {
   "cell_type": "markdown",
   "metadata": {
    "colab_type": "text",
    "id": "qcTDnyvop3ky"
   },
   "source": [
    "## Testing your Network\n",
    "\n",
    "It's good practice to test your trained network on test data, images the network has never seen either in training or validation. This will give you a good estimate for the model's performance on completely new images. You should be able to reach around 70% accuracy on the test set if the model has been trained well."
   ]
  },
  {
   "cell_type": "code",
   "execution_count": null,
   "metadata": {
    "colab": {
     "base_uri": "https://localhost:8080/",
     "height": 85
    },
    "colab_type": "code",
    "id": "79l7-HM1cafO",
    "outputId": "6cf468a4-1e27-4f20-d63a-a8bdd78bcdbe"
   },
   "outputs": [],
   "source": [
    "# TODO: Print the loss and accuracy values achieved on the entire test set.\n",
    "\n"
   ]
  },
  {
   "cell_type": "markdown",
   "metadata": {
    "colab_type": "text",
    "id": "pLsIDWnuqfkl"
   },
   "source": [
    "## Save the Model\n",
    "\n",
    "Now that your network is trained, save the model so you can load it later for making inference. In the cell below save your model as a Keras model (*i.e.* save it as an HDF5 file)."
   ]
  },
  {
   "cell_type": "code",
   "execution_count": null,
   "metadata": {
    "colab": {},
    "colab_type": "code",
    "id": "7XOwdOjSptp-"
   },
   "outputs": [],
   "source": [
    "# TODO: Save your trained model as a Keras model.\n",
    "\n"
   ]
  },
  {
   "cell_type": "markdown",
   "metadata": {
    "colab_type": "text",
    "id": "rbeLSRC1rxuj"
   },
   "source": [
    "## Load the Keras Model\n",
    "\n",
    "Load the Keras model you saved above."
   ]
  },
  {
   "cell_type": "code",
   "execution_count": null,
   "metadata": {
    "colab": {
     "base_uri": "https://localhost:8080/",
     "height": 394
    },
    "colab_type": "code",
    "id": "3T6Dgc7Nrzds",
    "outputId": "f5d356dc-183f-4cd3-f15d-88ebb4966082"
   },
   "outputs": [],
   "source": [
    "# TODO: Load the Keras model\n",
    "\n"
   ]
  },
  {
   "cell_type": "markdown",
   "metadata": {
    "colab_type": "text",
    "id": "ZjucwuFrsyhJ"
   },
   "source": [
    "# Inference for Classification\n",
    "\n",
    "Now you'll write a function that uses your trained network for inference. Write a function called `predict` that takes an image, a model, and then returns the top $K$ most likely class labels along with the probabilities. The function call should look like: \n",
    "\n",
    "```python\n",
    "probs, classes = predict(image_path, model, top_k)\n",
    "```\n",
    "\n",
    "If `top_k=5` the output of the `predict` function should be something like this:\n",
    "\n",
    "```python\n",
    "probs, classes = predict(image_path, model, 5)\n",
    "print(probs)\n",
    "print(classes)\n",
    "> [ 0.01558163  0.01541934  0.01452626  0.01443549  0.01407339]\n",
    "> ['70', '3', '45', '62', '55']\n",
    "```\n",
    "\n",
    "Your `predict` function should use `PIL` to load the image from the given `image_path`. You can use the [Image.open](https://pillow.readthedocs.io/en/latest/reference/Image.html#PIL.Image.open) function to load the images. The `Image.open()` function returns an `Image` object. You can convert this `Image` object to a NumPy array by using the `np.asarray()` function.\n",
    "\n",
    "The `predict` function will also need to handle pre-processing the input image such that it can be used by your model. We recommend you write a separate function called `process_image` that performs the pre-processing. You can then call the `process_image` function from the `predict` function. \n",
    "\n",
    "### Image Pre-processing\n",
    "\n",
    "The `process_image` function should take in an image (in the form of a NumPy array) and return an image in the form of a NumPy array with shape `(224, 224, 3)`.\n",
    "\n",
    "First, you should convert your image into a TensorFlow Tensor and then resize it to the appropriate size using `tf.image.resize`.\n",
    "\n",
    "Second, the pixel values of the input images are typically encoded as integers in the range 0-255, but the model expects the pixel values to be floats in the range 0-1. Therefore, you'll also need to normalize the pixel values. \n",
    "\n",
    "Finally, convert your image back to a NumPy array using the `.numpy()` method."
   ]
  },
  {
   "cell_type": "code",
   "execution_count": null,
   "metadata": {
    "colab": {},
    "colab_type": "code",
    "id": "oG7mJ1-5s1qe"
   },
   "outputs": [],
   "source": [
    "# TODO: Create the process_image function\n",
    "\n"
   ]
  },
  {
   "cell_type": "markdown",
   "metadata": {},
   "source": [
    "To check your `process_image` function we have provided 4 images in the `./test_images/` folder:\n",
    "\n",
    "* cautleya_spicata.jpg\n",
    "* hard-leaved_pocket_orchid.jpg\n",
    "* orange_dahlia.jpg\n",
    "* wild_pansy.jpg\n",
    "\n",
    "The code below loads one of the above images using `PIL` and plots the original image alongside the image produced by your `process_image` function. If your `process_image` function works, the plotted image should be the correct size. "
   ]
  },
  {
   "cell_type": "code",
   "execution_count": null,
   "metadata": {},
   "outputs": [],
   "source": [
    "from PIL import Image\n",
    "\n",
    "image_path = './test_images/hard-leaved_pocket_orchid.jpg'\n",
    "im = Image.open(image_path)\n",
    "test_image = np.asarray(im)\n",
    "\n",
    "processed_test_image = process_image(test_image)\n",
    "\n",
    "fig, (ax1, ax2) = plt.subplots(figsize=(10,10), ncols=2)\n",
    "ax1.imshow(test_image)\n",
    "ax1.set_title('Original Image')\n",
    "ax2.imshow(processed_test_image)\n",
    "ax2.set_title('Processed Image')\n",
    "plt.tight_layout()\n",
    "plt.show()"
   ]
  },
  {
   "cell_type": "markdown",
   "metadata": {},
   "source": [
    "Once you can get images in the correct format, it's time to write the `predict` function for making inference with your model.\n",
    "\n",
    "### Inference\n",
    "\n",
    "Remember, the `predict` function should take an image, a model, and then returns the top $K$ most likely class labels along with the probabilities. The function call should look like: \n",
    "\n",
    "```python\n",
    "probs, classes = predict(image_path, model, top_k)\n",
    "```\n",
    "\n",
    "If `top_k=5` the output of the `predict` function should be something like this:\n",
    "\n",
    "```python\n",
    "probs, classes = predict(image_path, model, 5)\n",
    "print(probs)\n",
    "print(classes)\n",
    "> [ 0.01558163  0.01541934  0.01452626  0.01443549  0.01407339]\n",
    "> ['70', '3', '45', '62', '55']\n",
    "```\n",
    "\n",
    "Your `predict` function should use `PIL` to load the image from the given `image_path`. You can use the [Image.open](https://pillow.readthedocs.io/en/latest/reference/Image.html#PIL.Image.open) function to load the images. The `Image.open()` function returns an `Image` object. You can convert this `Image` object to a NumPy array by using the `np.asarray()` function.\n",
    "\n",
    "**Note:** The image returned by the `process_image` function is a NumPy array with shape `(224, 224, 3)` but the model expects the input images to be of shape `(1, 224, 224, 3)`. This extra dimension represents the batch size. We suggest you use the `np.expand_dims()` function to add the extra dimension. "
   ]
  },
  {
   "cell_type": "code",
   "execution_count": null,
   "metadata": {
    "colab": {},
    "colab_type": "code",
    "id": "SBnPKFJuGB32"
   },
   "outputs": [],
   "source": [
    "# TODO: Create the predict function\n",
    "\n"
   ]
  },
  {
   "cell_type": "markdown",
   "metadata": {
    "colab_type": "text",
    "id": "aft8f_n5C7Co"
   },
   "source": [
    "# Sanity Check\n",
    "\n",
    "It's always good to check the predictions made by your model to make sure they are correct. To check your predictions we have provided 4 images in the `./test_images/` folder:\n",
    "\n",
    "* cautleya_spicata.jpg\n",
    "* hard-leaved_pocket_orchid.jpg\n",
    "* orange_dahlia.jpg\n",
    "* wild_pansy.jpg\n",
    "\n",
    "In the cell below use `matplotlib` to plot the input image alongside the probabilities for the top 5 classes predicted by your model. Plot the probabilities as a bar graph. The plot should look like this:\n",
    "\n",
    "<img src='assets/inference_example.png' width=600px>\n",
    "\n",
    "You can convert from the class integer labels to actual flower names using `class_names`. "
   ]
  },
  {
   "cell_type": "code",
   "execution_count": null,
   "metadata": {
    "colab": {
     "base_uri": "https://localhost:8080/",
     "height": 336
    },
    "colab_type": "code",
    "id": "I_tBH8xGGVxQ",
    "outputId": "ef0fe795-65f3-49c5-fab0-086fac7d409d"
   },
   "outputs": [],
   "source": [
    "# TODO: Plot the input image along with the top 5 classes\n"
   ]
  }
 ],
 "metadata": {
  "accelerator": "GPU",
  "colab": {
   "collapsed_sections": [],
   "name": "Project - Image Classifier Project.ipynb",
   "provenance": []
  },
  "kernelspec": {
   "display_name": "Python 3",
   "language": "python",
   "name": "python3"
  },
  "language_info": {
   "codemirror_mode": {
    "name": "ipython",
    "version": 3
   },
   "file_extension": ".py",
   "mimetype": "text/x-python",
   "name": "python",
   "nbconvert_exporter": "python",
   "pygments_lexer": "ipython3",
   "version": "3.7.3"
  }
 },
 "nbformat": 4,
 "nbformat_minor": 1
}
